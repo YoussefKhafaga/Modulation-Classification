{
  "cells": [
    {
      "cell_type": "markdown",
      "metadata": {
        "id": "view-in-github",
        "colab_type": "text"
      },
      "source": [
        "<a href=\"https://colab.research.google.com/github/YoussefKhafaga/Modulation-Classification/blob/main/Modulation_Classification.ipynb\" target=\"_parent\"><img src=\"https://colab.research.google.com/assets/colab-badge.svg\" alt=\"Open In Colab\"/></a>"
      ]
    },
    {
      "cell_type": "markdown",
      "metadata": {
        "id": "ssHOvLtT0Y2v"
      },
      "source": [
        "#1- Downalod data"
      ]
    },
    {
      "cell_type": "code",
      "execution_count": null,
      "metadata": {
        "id": "S1yUKTZ4eGD6",
        "colab": {
          "base_uri": "https://localhost:8080/"
        },
        "outputId": "88c13251-2aff-49d6-9ebf-97b02fc6b35e"
      },
      "outputs": [
        {
          "output_type": "stream",
          "name": "stdout",
          "text": [
            "Mounted at /content/drive\n"
          ]
        }
      ],
      "source": [
        "from google.colab import drive\n",
        "drive.mount('/content/drive')\n",
        "import tensorflow as tf\n",
        "tf.test.gpu_device_name()\n",
        "import pandas as pd"
      ]
    },
    {
      "cell_type": "code",
      "execution_count": null,
      "metadata": {
        "id": "UnAGxD5ajyJp"
      },
      "outputs": [],
      "source": [
        "import pickle as cPickle\n",
        "import numpy as np\n",
        "\n",
        "Xd = cPickle.load(open(\"/content/drive/MyDrive/RML2016.10b.dat\",'rb'),encoding = 'bytes')\n",
        "snrs, mods = map(lambda j: sorted(list(set(map(lambda x: x[j], Xd.keys())))), [1,0])\n",
        "X = [] \n",
        "Y = []\n",
        "snrlist = []\n",
        "modlist = []\n",
        "for mod in mods:\n",
        "    for snr in snrs:\n",
        "        X.append(Xd[(mod,snr)])\n",
        "        for i in range(Xd[(mod,snr)].shape[0]):\n",
        "          #Y.append([(mod, snr)])\n",
        "          modlist.append(mod)\n",
        "          snrlist.append(snr)\n",
        "X = np.vstack(X)\n",
        "d = {'mod': modlist, 'snr': snrlist}\n",
        "\n",
        "df = pd.DataFrame(data=d)\n",
        "Xd = None\n",
        "del Xd\n"
      ]
    },
    {
      "cell_type": "code",
      "source": [
        "import seaborn as sns \n",
        "import matplotlib.pyplot as plt\n",
        "sns.countplot(snrlist);\n",
        "plt.xlabel(\"SNR in dB\")\n",
        "plt.show();"
      ],
      "metadata": {
        "colab": {
          "base_uri": "https://localhost:8080/",
          "height": 335
        },
        "id": "5CQAjd3UOtVk",
        "outputId": "578c1e19-6adc-4001-90ff-3e6d6c129c74"
      },
      "execution_count": null,
      "outputs": [
        {
          "output_type": "stream",
          "name": "stderr",
          "text": [
            "/usr/local/lib/python3.7/dist-packages/seaborn/_decorators.py:43: FutureWarning: Pass the following variable as a keyword arg: x. From version 0.12, the only valid positional argument will be `data`, and passing other arguments without an explicit keyword will result in an error or misinterpretation.\n",
            "  FutureWarning\n"
          ]
        },
        {
          "output_type": "display_data",
          "data": {
            "text/plain": [
              "<Figure size 432x288 with 1 Axes>"
            ],
            "image/png": "[encoded data removed]"
          },
          "metadata": {
            "needs_background": "light"
          }
        }
      ]
    },
    {
      "cell_type": "code",
      "source": [
        "rcParams['figure.figsize'] = 15,8\n",
        "sns.countplot(modlist)"
      ],
      "metadata": {
        "colab": {
          "base_uri": "https://localhost:8080/",
          "height": 557
        },
        "id": "5KAr34bQOpD4",
        "outputId": "de19620a-6300-4adc-e2f0-e9e1ef073299"
      },
      "execution_count": null,
      "outputs": [
        {
          "output_type": "stream",
          "name": "stderr",
          "text": [
            "/usr/local/lib/python3.7/dist-packages/seaborn/_decorators.py:43: FutureWarning: Pass the following variable as a keyword arg: x. From version 0.12, the only valid positional argument will be `data`, and passing other arguments without an explicit keyword will result in an error or misinterpretation.\n",
            "  FutureWarning\n"
          ]
        },
        {
          "output_type": "execute_result",
          "data": {
            "text/plain": [
              "<matplotlib.axes._subplots.AxesSubplot at 0x7f8993d99850>"
            ]
          },
          "metadata": {},
          "execution_count": 73
        },
        {
          "output_type": "display_data",
          "data": {
            "text/plain": [
              "<Figure size 1080x576 with 1 Axes>"
            ],
            "image/png": "[encoded data removed]"
          },
          "metadata": {
            "needs_background": "light"
          }
        }
      ]
    },
    {
      "cell_type": "code",
      "source": [
        "#to change labels into integers \n",
        "df['mod']=np.unique(df['mod'], return_inverse=True)[1]\n"
      ],
      "metadata": {
        "id": "9pe91tt40WbN"
      },
      "execution_count": null,
      "outputs": []
    },
    {
      "cell_type": "code",
      "execution_count": null,
      "metadata": {
        "colab": {
          "base_uri": "https://localhost:8080/"
        },
        "id": "eYuQNgjlk8NF",
        "outputId": "895e1e95-58d6-4be8-e15c-014691981612"
      },
      "outputs": [
        {
          "output_type": "stream",
          "name": "stdout",
          "text": [
            "0          0\n",
            "1          0\n",
            "2          0\n",
            "3          0\n",
            "4          0\n",
            "          ..\n",
            "1199995    9\n",
            "1199996    9\n",
            "1199997    9\n",
            "1199998    9\n",
            "1199999    9\n",
            "Name: mod, Length: 1200000, dtype: int64\n"
          ]
        }
      ],
      "source": [
        "print(df['mod'])"
      ]
    },
    {
      "cell_type": "markdown",
      "metadata": {
        "id": "TUhxdjKX0d4I"
      },
      "source": [
        "#2- Feature extraction"
      ]
    },
    {
      "cell_type": "markdown",
      "metadata": {
        "id": "vL3gx2tCBrZT"
      },
      "source": [
        "#Data split"
      ]
    },
    {
      "cell_type": "markdown",
      "metadata": {
        "id": "E96zjqiXdWwN"
      },
      "source": []
    },
    {
      "cell_type": "code",
      "execution_count": null,
      "metadata": {
        "id": "zi2ada1wBqmz"
      },
      "outputs": [],
      "source": [
        "from sklearn.model_selection import train_test_split\n",
        "\n",
        "X_train, X_test, y_train, y_test = train_test_split(X, df, test_size=0.3, random_state=42, stratify=df)\n",
        "X_train, X_val, y_train, y_val = train_test_split(X_train, y_train,test_size=0.05, random_state=42, stratify=y_train)"
      ]
    },
    {
      "cell_type": "code",
      "source": [
        "y_train = y_train.drop(['snr'], axis=1)\n",
        "y_val = y_val.drop(['snr'], axis=1)\n",
        "print(y_train)"
      ],
      "metadata": {
        "colab": {
          "base_uri": "https://localhost:8080/"
        },
        "id": "qmXYH8f0fYUD",
        "outputId": "87243644-36a2-4ee4-cfd6-b44839d71eba"
      },
      "execution_count": null,
      "outputs": [
        {
          "output_type": "stream",
          "name": "stdout",
          "text": [
            "         mod\n",
            "233836     1\n",
            "534991     4\n",
            "1189815    9\n",
            "706109     5\n",
            "1014390    8\n",
            "...      ...\n",
            "988809     8\n",
            "445659     3\n",
            "732046     6\n",
            "826297     6\n",
            "18485      0\n",
            "\n",
            "[798000 rows x 1 columns]\n"
          ]
        }
      ]
    },
    {
      "cell_type": "code",
      "execution_count": null,
      "metadata": {
        "id": "V9eczQ5aaSoL"
      },
      "outputs": [],
      "source": [
        "X = None\n",
        "del X\n",
        "Y = None\n",
        "del Y\n",
        "snrs = None\n",
        "del snrs\n",
        "mods = None\n",
        "del mods"
      ]
    },
    {
      "cell_type": "code",
      "source": [
        "X_train = np.expand_dims(X_train, axis = 2)\n",
        "X_test = np.expand_dims(X_test, axis = 2)\n",
        "X_val = np.expand_dims(X_val, axis = 2)"
      ],
      "metadata": {
        "id": "0L1Gk0TN_WG_"
      },
      "execution_count": null,
      "outputs": []
    },
    {
      "cell_type": "code",
      "source": [
        "import scipy.integrate as it\n",
        "featurespace = list()\n",
        "for i in range(len(X_train)):\n",
        "  featurespace.append([X_train[i][0], X_train[i][1], np.diff(np.hstack((0, X_train[i][0]))), np.diff(np.hstack((0, X_train[i][1]))), it.cumtrapz(X_train[i][0], initial = 0), it.cumtrapz(X_train[i][1], initial = 0)])"
      ],
      "metadata": {
        "id": "_2mXdEAp7Vpl"
      },
      "execution_count": null,
      "outputs": []
    },
    {
      "cell_type": "code",
      "source": [
        "featurespace_val = list()\n",
        "for i in range(len(X_val)):  \n",
        "  featurespace_val.append([X_val[i][0], X_val[i][1], np.diff(np.hstack((0, X_val[i][0]))), np.diff(np.hstack((0, X_val[i][1]))), it.cumtrapz(X_val[i][0], initial = 0), it.cumtrapz(X_val[i][1], initial = 0)])"
      ],
      "metadata": {
        "id": "24v5demsvYGO"
      },
      "execution_count": null,
      "outputs": []
    },
    {
      "cell_type": "code",
      "source": [
        "featurespace_test = list()\n",
        "for i in range(len(X_test)):  \n",
        "  featurespace_test.append([X_test[i][0], X_test[i][1], np.diff(np.hstack((0, X_test[i][0]))), np.diff(np.hstack((0, X_test[i][1]))), it.cumtrapz(X_test[i][0], initial = 0), it.cumtrapz(X_test[i][1], initial = 0)])"
      ],
      "metadata": {
        "id": "dkBYGCc2EubF"
      },
      "execution_count": null,
      "outputs": []
    },
    {
      "cell_type": "code",
      "source": [
        "X_train = None\n",
        "del X_train\n",
        "X_val = None\n",
        "del X_val"
      ],
      "metadata": {
        "id": "zrevN3ugxBRE"
      },
      "execution_count": null,
      "outputs": []
    },
    {
      "cell_type": "code",
      "source": [
        "featurespace_validation = np.expand_dims(featurespace_val, axis = 2)\n",
        "featurespace_val = None\n",
        "del featurespace_val"
      ],
      "metadata": {
        "id": "TrtZb1VYyctR"
      },
      "execution_count": null,
      "outputs": []
    },
    {
      "cell_type": "code",
      "source": [
        "print(featurespace_validation.shape)"
      ],
      "metadata": {
        "colab": {
          "base_uri": "https://localhost:8080/"
        },
        "id": "HZbL2c8I2Wyi",
        "outputId": "979ada29-a155-475b-cda8-751ad29b0703"
      },
      "execution_count": null,
      "outputs": [
        {
          "output_type": "stream",
          "name": "stdout",
          "text": [
            "(42000, 6, 1, 128)\n"
          ]
        }
      ]
    },
    {
      "cell_type": "code",
      "execution_count": null,
      "metadata": {
        "id": "po-hWG7RazFz"
      },
      "outputs": [],
      "source": [
        "featurespace_train = np.expand_dims(featurespace, axis = 2)\n",
        "featurespace = None\n",
        "del featurespace"
      ]
    },
    {
      "cell_type": "code",
      "source": [
        "print(featurespace_train.shape)"
      ],
      "metadata": {
        "colab": {
          "base_uri": "https://localhost:8080/"
        },
        "id": "6JnxJl_LHApX",
        "outputId": "1420d878-9db2-48f4-ee44-7f364e9fb33f"
      },
      "execution_count": null,
      "outputs": [
        {
          "output_type": "stream",
          "name": "stdout",
          "text": [
            "(798000, 6, 1, 128)\n"
          ]
        }
      ]
    },
    {
      "cell_type": "code",
      "source": [
        "featurespace_train = None\n",
        "del featurespace_train\n",
        "featurespace_validation = None\n",
        "del featurespace_validation"
      ],
      "metadata": {
        "id": "lc0mUlUEFM6e"
      },
      "execution_count": null,
      "outputs": []
    },
    {
      "cell_type": "code",
      "source": [
        "featurespace_test1 = np.expand_dims(featurespace_test, axis = 2)\n",
        "featurespace_test = None\n",
        "del featurespace_test"
      ],
      "metadata": {
        "id": "mgfDNYweKZ-h"
      },
      "execution_count": null,
      "outputs": []
    },
    {
      "cell_type": "markdown",
      "metadata": {
        "id": "28mJZacWbUfD"
      },
      "source": [
        "## Dataset class"
      ]
    },
    {
      "cell_type": "code",
      "source": [
        "import seaborn as sns  \n",
        "sns.countplot(snrlist);\n",
        "plt.xlabel(\"SNR in dB\")\n",
        "plt.show();"
      ],
      "metadata": {
        "colab": {
          "base_uri": "https://localhost:8080/",
          "height": 335
        },
        "id": "L3Fp-bsAOXLm",
        "outputId": "3bddfa60-e46d-4bf8-d196-016b9e94d1a1"
      },
      "execution_count": null,
      "outputs": [
        {
          "output_type": "stream",
          "name": "stderr",
          "text": [
            "/usr/local/lib/python3.7/dist-packages/seaborn/_decorators.py:43: FutureWarning: Pass the following variable as a keyword arg: x. From version 0.12, the only valid positional argument will be `data`, and passing other arguments without an explicit keyword will result in an error or misinterpretation.\n",
            "  FutureWarning\n"
          ]
        },
        {
          "output_type": "display_data",
          "data": {
            "text/plain": [
              "<Figure size 432x288 with 1 Axes>"
            ],
            "image/png": "[encoded data removed]"
          },
          "metadata": {
            "needs_background": "light"
          }
        }
      ]
    },
    {
      "cell_type": "code",
      "source": [
        "y_train=np.array(y_train)\n",
        "y_val=np.array(y_val)\n",
        "# y_test=np.array(y_test)\n",
        "y_train = np.unique(y_train, return_inverse= True)[1]\n",
        "y_val = np.unique(y_val, return_inverse= True)[1]\n",
        "# y_test = np.unique(y_test, return_inverse= True)[1]"
      ],
      "metadata": {
        "id": "iyxXsbAfgAdR"
      },
      "execution_count": null,
      "outputs": []
    },
    {
      "cell_type": "code",
      "source": [
        "print(y_train)"
      ],
      "metadata": {
        "colab": {
          "base_uri": "https://localhost:8080/"
        },
        "id": "qG9i7-873YNH",
        "outputId": "abbfd6a1-eba8-4d49-b9e4-1e926b8e87b3"
      },
      "execution_count": null,
      "outputs": [
        {
          "output_type": "stream",
          "name": "stdout",
          "text": [
            "[1 4 9 ... 6 6 0]\n"
          ]
        }
      ]
    },
    {
      "cell_type": "code",
      "execution_count": null,
      "metadata": {
        "id": "t7tWkpnJbW_x"
      },
      "outputs": [],
      "source": [
        "class Dataset:\n",
        "    def __init__(self, data, labels):\n",
        "        self.data = data\n",
        "        self.labels = labels\n",
        "    def __len__(self):\n",
        "        return len(self.data)\n",
        "    def __getitem__(self, idx):\n",
        "        sample = torch.tensor(self.data[idx], dtype= torch.float )        \n",
        "        label = torch.tensor(self.labels[idx], dtype= torch.int )        \n",
        "        return sample, label"
      ]
    },
    {
      "cell_type": "markdown",
      "metadata": {
        "id": "oa9g5q_qYnoG"
      },
      "source": [
        "## CNN\n"
      ]
    },
    {
      "cell_type": "code",
      "execution_count": null,
      "metadata": {
        "id": "rtAn8G3lYsDI"
      },
      "outputs": [],
      "source": [
        "import torch\n",
        "import torch.nn as nn\n",
        "import torch.nn.functional as F\n",
        "class CNN(nn.Module):\n",
        "    def __init__(self):\n",
        "      super(CNN, self).__init__()\n",
        "      self.conv1 = nn.Conv2d(2, 64, (1,5), 1,2)\n",
        "      self.conv2 = nn.Conv2d(64, 32, (2,3), 1)\n",
        "      self.conv3 = nn.Conv2d(32,16,(1,5),1)\n",
        "\n",
        "      self.fc1 = nn.Linear(7808, 256)\n",
        "      self.fc2 = nn.Linear(256, 128)\n",
        "\n",
        "      self.fc3 = nn.Linear(128, 10)\n",
        "\n",
        "\n",
        "       # self.conv3 = nn.Conv2d(128,64,3,1)\n",
        "      # self.conv4 = nn.Conv2d(64,32,3,1)\n",
        "      self.dropout1 = nn.Dropout(0.5)\n",
        "      self.dropout2 = nn.Dropout(0.5)\n",
        "      torch.nn.init.xavier_uniform_(self.conv1.weight)\n",
        "      torch.nn.init.xavier_uniform_(self.conv2.weight)\n",
        "      # torch.nn.init.xavier_uniform_(self.conv3.weight)\n",
        "      torch.nn.init.xavier_uniform_(self.fc1.weight)\n",
        "      torch.nn.init.xavier_uniform_(self.fc3.weight)\n",
        "\n",
        "\n",
        "    # x represents our data\n",
        "    def forward(self, x):\n",
        "      # Pass data through conv1\n",
        "      x = self.conv1(x)\n",
        "      # Use the rectified-linear activation function over x\n",
        "      x = F.relu(x)\n",
        "      # Run max pooling over x\n",
        "      # x = F.max_pool2d(x, 5, 2)\n",
        "      # Pass data through conv2\n",
        "      x = self.conv2(x)\n",
        "      x = F.relu(x)\n",
        "      # x = F.max_pool2d(x, 3, 2)\n",
        "      x = self.conv3(x)\n",
        "      x = F.relu(x)\n",
        "      # x = F.max_pool2d(x, 5, 2)\n",
        "      x = torch.flatten(x, 1)\n",
        "      # x = self.dropout1(x)\n",
        "      x = self.fc1(x)\n",
        "      x = F.relu(x)\n",
        "      x = self.fc2(x)\n",
        "      x = F.relu(x)\n",
        "      x = self.dropout2(x)\n",
        "      x = self.fc3(x)\n",
        "\n",
        "      # Apply softmax to x\n",
        "      output = F.log_softmax(x, dim=1)\n",
        "      return output"
      ]
    },
    {
      "cell_type": "code",
      "execution_count": null,
      "metadata": {
        "id": "pSYOcqgta9D0"
      },
      "outputs": [],
      "source": [
        "from torch.optim.swa_utils import AveragedModel, SWALR\n",
        "from torch.optim.lr_scheduler import CosineAnnealingLR\n",
        "def train_single_epoch(model, train_loader,validate_dataloader, loss_fn, optimiser, device):\n",
        "    correct = 0\n",
        "    total = 0\n",
        "    train_correct = []\n",
        "    val_correct = []\n",
        "    train_loss = 0.0\n",
        "    model.train()\n",
        "\n",
        "    for input, target in train_loader:\n",
        "        input = input.to(device)\n",
        "        target = target.type(torch.LongTensor)\n",
        "        target = target.to(device)\n",
        "       \n",
        "        prediction = model(input)\n",
        "        loss = loss_fn(prediction, target)\n",
        "        # backpropagate error and update weights\n",
        "        optimiser.zero_grad()\n",
        "        loss.backward()\n",
        "        optimiser.step()\n",
        "        lr = optimiser.param_groups[0][\"lr\"]\n",
        "        train_loss += loss.item()\n",
        "        for index, tensor_value in enumerate(prediction):\n",
        "            total +=1\n",
        "            # print(\"in for\",total)\n",
        "            if torch.argmax(tensor_value) == target[index]:\n",
        "                correct += 1\n",
        "                # print(\"in if\",correct)\n",
        "        # y_max_scores, y_max_idx = prediction.max(dim=1)\n",
        "        # predi = y_max_idx\n",
        "        # correct = (target == predi).sum()\n",
        "        # correct = correct.item()\n",
        "        # train_correct.append(correct)\n",
        "    lrs.append(lr)\n",
        "    accuracy_train = correct /total\n",
        "\n",
        "    # acc = sum(train_correct)/X_train.shape[0]\n",
        "    # print(total,len(val_dataloader))\n",
        "    print(\"Training\\n----------------------\")\n",
        "    print(\"before acc\",total,correct)\n",
        "    # print(acc)\n",
        "    print(\"Accuracy = {}\".format(accuracy_train))\n",
        "    print(\"lr\",lr)\n",
        "\n",
        "    print(f\"loss: {train_loss/len(train_loader)}\")\n",
        "    train_losses.append(train_loss/len(train_loader))\n",
        "    train_accu.append(accuracy_train)\n",
        "\n",
        "    correct = 0\n",
        "    total = 0\n",
        "    valid_loss = 0.0\n",
        "    model.eval()\n",
        "    for input, target in validate_dataloader:\n",
        "      input = input.to(device)\n",
        "      target = target.type(torch.LongTensor)\n",
        "      target = target.to(device)\n",
        "      # calculate loss\n",
        "      prediction = model(input)\n",
        "      # print(\"pred size\",prediction.shape)\n",
        "      # print(\"pred size\",prediction.shape)\n",
        "\n",
        "      loss = loss_fn(prediction, target)\n",
        "      valid_loss = loss.item()*input.size(0)\n",
        "      # y_max_scores, y_max_idx = prediction.max(dim=1)\n",
        "      # predi = y_max_idx\n",
        "      # correct = (target == predi).sum()\n",
        "      # correct = correct.item()\n",
        "      # val_correct.append(correct) \n",
        "      for index, tensor_value in enumerate(prediction):\n",
        "            total +=1\n",
        "            # print(\"in for\",total)\n",
        "            if torch.argmax(tensor_value) == target[index]:\n",
        "                correct += 1\n",
        "                # print(\"in if\",correct)\n",
        "\n",
        "    print(\"Validating\\n----------------------\")\n",
        "    accuracy = correct /total\n",
        "\n",
        "    # accu_val= sum(val_correct)/X_val.shape[0]\n",
        "    print(\"before acc\",total,correct)\n",
        "    # print(accu_val)\n",
        "    print(\"Accuracy = {}\".format(accuracy))\n",
        "\n",
        "    print(f\"loss: {valid_loss/len(validate_dataloader)}\")\n",
        "    eval_losses.append(valid_loss/len(validate_dataloader))\n",
        "    eval_accu.append(accuracy)\n",
        "\n",
        "    return train_loss/len(train_loader)\n",
        "\n",
        "    \n",
        "    # return accuracy\n",
        "\n",
        "def train_CNN(model, train_loader,val_loader, loss_fn, optimiser, device, epochs):\n",
        "  \n",
        "    scheduler2 = torch.optim.lr_scheduler.MultiStepLR(optimiser, milestones=[15,25,35,45,55], gamma = 0.5)\n",
        "\n",
        "    scheduler = torch.optim.lr_scheduler.ReduceLROnPlateau(optimiser, patience = 3, factor=0.3, verbose=True, threshold = 1e-3)\n",
        "    # scheduler = torch.optim.lr_scheduler.ExponentialLR(optimiser, gamma=0.1)\n",
        "\n",
        "\n",
        "    for i in range(epochs):\n",
        "        print(f\"Epoch {i+1}\")\n",
        "        loss = train_single_epoch(model, train_loader,val_loader, loss_fn, optimiser, device)\n",
        "        # scheduler.step(acc)\n",
        "        scheduler.step(loss)\n",
        "        scheduler2.step()\n",
        "\n",
        "\n",
        "        print(\"---------------------------\")\n",
        "    print(\"Finished training\")"
      ]
    },
    {
      "cell_type": "code",
      "source": [
        "# TODO: change list names one for each model \n",
        "train_losses = []\n",
        "train_accu = []\n",
        "eval_losses = []\n",
        "eval_accu = []\n",
        "lrs = []\n",
        "from torch.utils.data import TensorDataset, DataLoader\n",
        "dataset_train = Dataset(data = featurespace_train, labels = y_train)\n",
        "dataset_val = Dataset(data = featurespace_validation, labels = y_val)\n",
        "\n",
        "if torch.cuda.is_available():\n",
        "    device = \"cuda\"\n",
        "else:\n",
        "    device = \"cpu\"\n",
        "cnn = CNN().to(device)\n",
        "# cnn.load_state_dict(torch.load(\"/content/cnn2d (2).pth\"))\n",
        "train_dataloader = DataLoader(dataset_train, batch_size=128,shuffle = True)\n",
        "\n",
        "print(cnn)\n",
        "val_dataloader = DataLoader(dataset_val, batch_size=128)\n",
        "\n",
        "print(len(val_dataloader))\n",
        "loss_func = nn.CrossEntropyLoss()\n",
        "optimiser = torch.optim.AdamW(cnn.parameters(), lr=1e-4, weight_decay=0.01)\n",
        "train_CNN(cnn, train_dataloader,val_dataloader, loss_func, optimiser, device, 10)"
      ],
      "metadata": {
        "colab": {
          "base_uri": "https://localhost:8080/"
        },
        "id": "vSsYFBWC6qQa",
        "outputId": "8fb685b6-8fef-4efb-a025-66b169a4cbac"
      },
      "execution_count": null,
      "outputs": [
        {
          "output_type": "stream",
          "name": "stdout",
          "text": [
            "CNN(\n",
            "  (conv1): Conv2d(6, 64, kernel_size=(1, 5), stride=(1, 1), padding=(2, 2))\n",
            "  (conv2): Conv2d(64, 32, kernel_size=(2, 3), stride=(1, 1))\n",
            "  (conv3): Conv2d(32, 16, kernel_size=(1, 5), stride=(1, 1))\n",
            "  (fc1): Linear(in_features=7808, out_features=256, bias=True)\n",
            "  (fc2): Linear(in_features=256, out_features=128, bias=True)\n",
            "  (fc3): Linear(in_features=128, out_features=10, bias=True)\n",
            "  (dropout1): Dropout(p=0.5, inplace=False)\n",
            "  (dropout2): Dropout(p=0.5, inplace=False)\n",
            ")\n",
            "329\n",
            "Epoch 1\n",
            "Training\n",
            "----------------------\n",
            "before acc 798000 177196\n",
            "Accuracy = 0.22205012531328322\n",
            "lr 0.0001\n",
            "loss: 1.9850073956831418\n",
            "Validating\n",
            "----------------------\n",
            "before acc 42000 11134\n",
            "Accuracy = 0.2650952380952381\n",
            "loss: 0.07866262882313829\n",
            "---------------------------\n",
            "Epoch 2\n",
            "Training\n",
            "----------------------\n",
            "before acc 798000 220978\n",
            "Accuracy = 0.27691478696741856\n",
            "lr 0.0001\n",
            "loss: 1.8104529321145897\n",
            "Validating\n",
            "----------------------\n",
            "before acc 42000 12909\n",
            "Accuracy = 0.3073571428571429\n",
            "loss: 0.07294093656684852\n",
            "---------------------------\n",
            "Epoch 3\n",
            "Training\n",
            "----------------------\n",
            "before acc 798000 254437\n",
            "Accuracy = 0.31884335839599\n",
            "lr 0.0001\n",
            "loss: 1.6771940807581138\n",
            "Validating\n",
            "----------------------\n",
            "before acc 42000 14696\n",
            "Accuracy = 0.3499047619047619\n",
            "loss: 0.0641124458660833\n",
            "---------------------------\n",
            "Epoch 4\n",
            "Training\n",
            "----------------------\n",
            "before acc 798000 283327\n",
            "Accuracy = 0.35504636591478694\n",
            "lr 0.0001\n",
            "loss: 1.5757539561966847\n",
            "Validating\n",
            "----------------------\n",
            "before acc 42000 15727\n",
            "Accuracy = 0.3744523809523809\n",
            "loss: 0.06271395929678596\n",
            "---------------------------\n",
            "Epoch 5\n",
            "Training\n",
            "----------------------\n",
            "before acc 798000 303239\n",
            "Accuracy = 0.37999874686716795\n",
            "lr 0.0001\n",
            "loss: 1.5051259354390234\n",
            "Validating\n",
            "----------------------\n",
            "before acc 42000 16729\n",
            "Accuracy = 0.39830952380952384\n",
            "loss: 0.06154368786101646\n",
            "---------------------------\n",
            "Epoch 6\n",
            "Training\n",
            "----------------------\n",
            "before acc 798000 323594\n",
            "Accuracy = 0.4055062656641604\n",
            "lr 0.0001\n",
            "loss: 1.4340951979590495\n",
            "Validating\n",
            "----------------------\n",
            "before acc 42000 17979\n",
            "Accuracy = 0.42807142857142855\n",
            "loss: 0.05974719734539739\n",
            "---------------------------\n",
            "Epoch 7\n",
            "Training\n",
            "----------------------\n",
            "before acc 798000 341381\n",
            "Accuracy = 0.42779573934837095\n",
            "lr 0.0001\n",
            "loss: 1.3719875001104336\n",
            "Validating\n",
            "----------------------\n",
            "before acc 42000 18824\n",
            "Accuracy = 0.4481904761904762\n",
            "loss: 0.05891599916034919\n",
            "---------------------------\n",
            "Epoch 8\n",
            "Training\n",
            "----------------------\n",
            "before acc 798000 352906\n",
            "Accuracy = 0.44223809523809526\n",
            "lr 0.0001\n",
            "loss: 1.3287396467869628\n",
            "Validating\n",
            "----------------------\n",
            "before acc 42000 18993\n",
            "Accuracy = 0.45221428571428574\n",
            "loss: 0.05942886723573447\n",
            "---------------------------\n",
            "Epoch 9\n"
          ]
        }
      ]
    },
    {
      "cell_type": "code",
      "execution_count": null,
      "metadata": {
        "colab": {
          "base_uri": "https://localhost:8080/"
        },
        "id": "BQUEYdwxbawe",
        "outputId": "f7536454-e762-480e-bc46-3b37e2c8ba38"
      },
      "outputs": [
        {
          "output_type": "stream",
          "name": "stdout",
          "text": [
            "CNN(\n",
            "  (conv1): Conv2d(2, 64, kernel_size=(1, 5), stride=(1, 1), padding=(2, 2))\n",
            "  (conv2): Conv2d(64, 32, kernel_size=(2, 3), stride=(1, 1))\n",
            "  (conv3): Conv2d(32, 16, kernel_size=(1, 5), stride=(1, 1))\n",
            "  (fc1): Linear(in_features=7808, out_features=256, bias=True)\n",
            "  (fc2): Linear(in_features=256, out_features=128, bias=True)\n",
            "  (fc3): Linear(in_features=128, out_features=10, bias=True)\n",
            "  (dropout1): Dropout(p=0.5, inplace=False)\n",
            "  (dropout2): Dropout(p=0.5, inplace=False)\n",
            ")\n",
            "329\n",
            "Epoch 1\n",
            "Training\n",
            "----------------------\n",
            "before acc 798000 149918\n",
            "Accuracy = 0.1878671679197995\n",
            "lr 0.0001\n",
            "loss: 2.0478813088599837\n",
            "Validating\n",
            "----------------------\n",
            "before acc 42000 11302\n",
            "Accuracy = 0.2690952380952381\n",
            "loss: 0.08280973231538813\n",
            "---------------------------\n",
            "Epoch 2\n",
            "Training\n",
            "----------------------\n",
            "before acc 798000 247706\n",
            "Accuracy = 0.31040852130325813\n",
            "lr 0.0001\n",
            "loss: 1.7317336990819898\n",
            "Validating\n",
            "----------------------\n",
            "before acc 42000 15263\n",
            "Accuracy = 0.3634047619047619\n",
            "loss: 0.0731050787001033\n",
            "---------------------------\n",
            "Epoch 3\n",
            "Training\n",
            "----------------------\n",
            "before acc 798000 294331\n",
            "Accuracy = 0.3688358395989975\n",
            "lr 0.0001\n",
            "loss: 1.5898243854594594\n",
            "Validating\n",
            "----------------------\n",
            "before acc 42000 16194\n",
            "Accuracy = 0.38557142857142856\n",
            "loss: 0.06749611712516622\n",
            "---------------------------\n",
            "Epoch 4\n",
            "Training\n",
            "----------------------\n",
            "before acc 798000 311390\n",
            "Accuracy = 0.3902130325814536\n",
            "lr 0.0001\n",
            "loss: 1.5306417029097066\n",
            "Validating\n",
            "----------------------\n",
            "before acc 42000 17219\n",
            "Accuracy = 0.4099761904761905\n",
            "loss: 0.067431568737088\n",
            "---------------------------\n",
            "Epoch 5\n",
            "Training\n",
            "----------------------\n",
            "before acc 798000 322096\n",
            "Accuracy = 0.4036290726817043\n",
            "lr 0.0001\n",
            "loss: 1.494410007862253\n",
            "Validating\n",
            "----------------------\n",
            "before acc 42000 17672\n",
            "Accuracy = 0.4207619047619048\n",
            "loss: 0.06663421004738851\n",
            "---------------------------\n",
            "Epoch 6\n",
            "Training\n",
            "----------------------\n",
            "before acc 798000 329707\n",
            "Accuracy = 0.4131666666666667\n",
            "lr 0.0001\n",
            "loss: 1.4672999700356602\n",
            "Validating\n",
            "----------------------\n",
            "before acc 42000 17745\n",
            "Accuracy = 0.4225\n",
            "loss: 0.06574180858113483\n",
            "---------------------------\n",
            "Epoch 7\n",
            "Training\n",
            "----------------------\n",
            "before acc 798000 334539\n",
            "Accuracy = 0.4192218045112782\n",
            "lr 0.0001\n",
            "loss: 1.45020388025423\n",
            "Validating\n",
            "----------------------\n",
            "before acc 42000 18283\n",
            "Accuracy = 0.4353095238095238\n",
            "loss: 0.06782869727415879\n",
            "---------------------------\n",
            "Epoch 8\n",
            "Training\n",
            "----------------------\n",
            "before acc 798000 339306\n",
            "Accuracy = 0.4251954887218045\n",
            "lr 0.0001\n",
            "loss: 1.4327655117896048\n",
            "Validating\n",
            "----------------------\n",
            "before acc 42000 18479\n",
            "Accuracy = 0.43997619047619047\n",
            "loss: 0.06517785950634618\n",
            "---------------------------\n",
            "Epoch 9\n",
            "Training\n",
            "----------------------\n",
            "before acc 798000 346248\n",
            "Accuracy = 0.4338947368421053\n",
            "lr 0.0001\n",
            "loss: 1.405543767344789\n",
            "Validating\n",
            "----------------------\n",
            "before acc 42000 18508\n",
            "Accuracy = 0.44066666666666665\n",
            "loss: 0.06776762153602299\n",
            "---------------------------\n",
            "Epoch 10\n",
            "Training\n",
            "----------------------\n",
            "before acc 798000 356818\n",
            "Accuracy = 0.447140350877193\n",
            "lr 0.0001\n",
            "loss: 1.3678877083607073\n",
            "Validating\n",
            "----------------------\n",
            "before acc 42000 19534\n",
            "Accuracy = 0.4650952380952381\n",
            "loss: 0.06391538602602881\n",
            "---------------------------\n",
            "Finished training\n"
          ]
        }
      ],
      "source": [
        "# TODO: change list names one for each model \n",
        "train_losses = []\n",
        "train_accu = []\n",
        "eval_losses = []\n",
        "eval_accu = []\n",
        "lrs = []\n",
        "from torch.utils.data import TensorDataset, DataLoader\n",
        "dataset_train = Dataset(data = X_train, labels = y_train)\n",
        "dataset_val = Dataset(data = X_val, labels = y_val)\n",
        "\n",
        "if torch.cuda.is_available():\n",
        "    device = \"cuda\"\n",
        "else:\n",
        "    device = \"cpu\"\n",
        "cnn = CNN().to(device)\n",
        "# cnn.load_state_dict(torch.load(\"/content/cnn2d (2).pth\"))\n",
        "train_dataloader = DataLoader(dataset_train, batch_size=128,shuffle = True)\n",
        "\n",
        "print(cnn)\n",
        "val_dataloader = DataLoader(dataset_val, batch_size=128)\n",
        "\n",
        "print(len(val_dataloader))\n",
        "loss_func = nn.CrossEntropyLoss()\n",
        "optimiser = torch.optim.AdamW(cnn.parameters(), lr=1e-4, weight_decay=0.01)\n",
        "train_CNN(cnn, train_dataloader,val_dataloader, loss_func, optimiser, device, 10)"
      ]
    },
    {
      "cell_type": "code",
      "execution_count": null,
      "metadata": {
        "id": "GL-jmPA9b-mJ"
      },
      "outputs": [],
      "source": [
        "torch.save(cnn.state_dict(), \"/content/drive/MyDrive/cnn50.pth\")"
      ]
    },
    {
      "cell_type": "code",
      "execution_count": null,
      "metadata": {
        "id": "5r_RLs0Yb_q2",
        "colab": {
          "base_uri": "https://localhost:8080/",
          "height": 295
        },
        "outputId": "86f798fc-9f26-44fb-f472-8862bf66caf0"
      },
      "outputs": [
        {
          "output_type": "display_data",
          "data": {
            "text/plain": [
              "<Figure size 432x288 with 1 Axes>"
            ],
            "image/png": "[encoded data removed]"
          },
          "metadata": {
            "needs_background": "light"
          }
        }
      ],
      "source": [
        "import matplotlib.pyplot as plt\n",
        "\n",
        "plt.plot(train_accu,'-o')\n",
        "plt.plot(eval_accu,'-o')\n",
        "plt.xlabel('epoch')\n",
        "plt.ylabel('accuracy')\n",
        "plt.legend(['Train','Valid'])\n",
        "plt.title('Train vs Valid Accuracy')\n",
        "\n",
        "plt.show()"
      ]
    },
    {
      "cell_type": "code",
      "execution_count": null,
      "metadata": {
        "id": "ll5UsSYRcCsZ",
        "colab": {
          "base_uri": "https://localhost:8080/",
          "height": 295
        },
        "outputId": "f134f572-e64c-446a-dcd9-2df664fba1b1"
      },
      "outputs": [
        {
          "output_type": "display_data",
          "data": {
            "text/plain": [
              "<Figure size 432x288 with 1 Axes>"
            ],
            "image/png": "[encoded data removed]"
          },
          "metadata": {
            "needs_background": "light"
          }
        }
      ],
      "source": [
        "plt.plot(train_losses,'-o')\n",
        "plt.plot(eval_losses,'-o')\n",
        "plt.xlabel('epoch')\n",
        "plt.ylabel('losses')\n",
        "plt.legend(['Train','Valid'])\n",
        "plt.title('Train vs Valid Losses')\n",
        "\n",
        "plt.show()"
      ]
    },
    {
      "cell_type": "code",
      "source": [
        "snrs = y_test['snr'].unique()\n",
        "snrs.sort()"
      ],
      "metadata": {
        "id": "MJ7e-FXw9aoz"
      },
      "execution_count": null,
      "outputs": []
    },
    {
      "cell_type": "code",
      "source": [
        "print(y_test)"
      ],
      "metadata": {
        "colab": {
          "base_uri": "https://localhost:8080/"
        },
        "id": "1InQOgZr9jKi",
        "outputId": "036cd97e-21b0-49df-b652-122c61e447d0"
      },
      "execution_count": null,
      "outputs": [
        {
          "output_type": "stream",
          "name": "stdout",
          "text": [
            "         mod  snr\n",
            "198833     1    6\n",
            "1164631    9    8\n",
            "13184      0  -16\n",
            "354799     2   18\n",
            "413038     3   -4\n",
            "...      ...  ...\n",
            "478707     3   18\n",
            "38964      0   -8\n",
            "651348     5   -4\n",
            "310360     2    2\n",
            "728236     6  -18\n",
            "\n",
            "[360000 rows x 2 columns]\n"
          ]
        }
      ]
    },
    {
      "cell_type": "code",
      "source": [
        "ind  = list(range(0,360000))\n",
        "y_test.index = ind"
      ],
      "metadata": {
        "id": "K7p7syFi9oM4"
      },
      "execution_count": null,
      "outputs": []
    },
    {
      "cell_type": "code",
      "source": [
        "def plot_snr(model):  \n",
        "  snrsacc = []\n",
        "  for snr in snrs:\n",
        "    currsnrindices = y_test.index[y_test['snr']==snr].tolist()\n",
        "    currsnrlabels =  y_test.iloc[currsnrindices]\n",
        "    currsnrlabels = currsnrlabels.drop(['snr'],axis = 1)\n",
        "    currsnrlabels=np.array(currsnrlabels)\n",
        "    currsnrlabels = np.unique(currsnrlabels, return_inverse= True)[1]\n",
        "    currsnrSamples =featurespace_test1[currsnrindices]\n",
        "    dataset_test = Dataset(data = currsnrSamples, labels = currsnrlabels)\n",
        "    test_dataloader = DataLoader(dataset_test, batch_size=64)\n",
        "    # print(x_spectro_test)\n",
        "    snrsacc.append(test_model(model,test_dataloader,device ))\n",
        "  return snrsacc\n",
        "\n"
      ],
      "metadata": {
        "id": "lW1RBNYD9yEQ"
      },
      "execution_count": null,
      "outputs": []
    },
    {
      "cell_type": "code",
      "source": [
        "from matplotlib import rcParams\n",
        "from torch.utils.data import TensorDataset, DataLoader\n",
        "\n",
        "snrsacc=plot_snr(cnn)\n",
        "rcParams['figure.figsize'] = 10,8\n",
        "plt.plot(snrs,snrsacc,linestyle=\"-\",marker=\"o\");\n",
        "plt.ylabel('Accuracy')\n",
        "plt.xlabel('SNR in dB')\n",
        "plt.xticks(ticks=snrs, labels=snrs);\n"
      ],
      "metadata": {
        "colab": {
          "base_uri": "https://localhost:8080/",
          "height": 497
        },
        "id": "OlBdmP2VBAJ9",
        "outputId": "09250978-d9f5-42be-93af-f3a7e53de1c2"
      },
      "execution_count": null,
      "outputs": [
        {
          "output_type": "display_data",
          "data": {
            "text/plain": [
              "<Figure size 720x576 with 1 Axes>"
            ],
            "image/png": "[encoded data removed]"
          },
          "metadata": {
            "needs_background": "light"
          }
        }
      ]
    },
    {
      "cell_type": "code",
      "source": [
        "from sklearn.metrics import confusion_matrix\n",
        "import seaborn as sn\n",
        "import pandas as pd\n",
        "import matplotlib.pyplot as plt\n",
        "from sklearn.metrics import classification_report\n",
        "\n",
        "\n",
        "def test_model(model, test_dataloader, device):\n",
        "  y_pred = []\n",
        "  y_true = []\n",
        "  acc = []\n",
        "  total = 0\n",
        "  correct = 0\n",
        "  model.eval()\n",
        "  for input, target in test_dataloader:\n",
        "    input = input.to(device)\n",
        "    target = target.type(torch.LongTensor)\n",
        "    target = target.to(device)\n",
        "    prediction = model(input)\n",
        "    \n",
        "    for index, tensor_value in enumerate(prediction):\n",
        "            total +=1\n",
        "            y_pred.append(torch.argmax(tensor_value).data.cpu().numpy())\n",
        "            y_true.append(target[index].data.cpu().numpy())\n",
        "            if torch.argmax(tensor_value) == target[index]:\n",
        "                correct += 1\n",
        "    accuracy = correct /total\n",
        "    acc.append(accuracy)\n",
        "  acc = np.array(acc)\n",
        "  return np.mean(acc)\n",
        "\n"
      ],
      "metadata": {
        "id": "Fu3GMqW5_bZe"
      },
      "execution_count": null,
      "outputs": []
    },
    {
      "cell_type": "markdown",
      "metadata": {
        "id": "FYwelSWPg4G4"
      },
      "source": [
        "## RNN"
      ]
    },
    {
      "cell_type": "code",
      "execution_count": null,
      "metadata": {
        "id": "6_HvYheUg3bj"
      },
      "outputs": [],
      "source": [
        "from torch.nn.modules import dropout\n",
        "import torch\n",
        "import torch.nn as nn\n",
        "import torch.nn.functional as F\n",
        "class RNN(nn.Module):\n",
        "    def __init__(self):\n",
        "      super(RNN, self).__init__()\n",
        "      self.rnn = nn.RNN(768, 512, 4)\n",
        "      self.fc = nn.Linear(512, 10)\n",
        "\n",
        "    def forward(self, x):\n",
        "      h0 = torch.zeros(4, x.size(2), 512).to(device)\n",
        "      batchSize = x.size(0)\n",
        "      x = x.reshape((batchSize,1,768))\n",
        "      x, _ = self.rnn(x,  h0)\n",
        "      x = x.contiguous().view(-1, 512)\n",
        "      x = self.fc(x)\n",
        "      output = F.log_softmax(x, dim=1)\n",
        "      return output"
      ]
    },
    {
      "cell_type": "code",
      "execution_count": null,
      "metadata": {
        "id": "ZWK2WAH3sv1W"
      },
      "outputs": [],
      "source": [
        "lrs = []\n",
        "train_losses = []\n",
        "train_accu = []\n",
        "eval_losses = []\n",
        "eval_accu = []\n",
        "\n",
        "def train_single_epoch(model, train_loader,validate_dataloader, loss_fn, optimiser, device):\n",
        "    correct = 0\n",
        "    total = 0\n",
        "    train_loss = 0.0\n",
        "    model.train()\n",
        "\n",
        "    for input, target in train_loader:\n",
        "        input = input.to(device)\n",
        "        target = target.type(torch.LongTensor)\n",
        "        target = target.to(device)\n",
        "        # calculate loss\n",
        "        prediction = model(input)\n",
        "        loss = loss_fn(prediction, target)\n",
        "\n",
        "        # backpropagate error and update weights\n",
        "        optimiser.zero_grad()\n",
        "        loss.backward()\n",
        "        optimiser.step()\n",
        "        lr = optimiser.param_groups[0][\"lr\"]\n",
        "        train_loss += loss.item()\n",
        "\n",
        "        for index, tensor_value in enumerate(prediction):\n",
        "            total +=1\n",
        "            # print(\"in for\",total)\n",
        "            if torch.argmax(tensor_value) == target[index]:\n",
        "                correct += 1\n",
        "                # print(\"in if\",correct)\n",
        "\n",
        "    lrs.append(lr)\n",
        "    accuracy_train = correct /total\n",
        "    print(\"Training\\n----------------------\")\n",
        "    print(\"before acc\",total,correct)\n",
        "    print(\"Accuracy = {}\".format(accuracy_train))\n",
        "    print(\"lr\",lr)\n",
        "\n",
        "    print(f\"loss: {train_loss/len(train_loader)}\")\n",
        "    train_losses.append(train_loss/len(train_loader))\n",
        "    train_accu.append(accuracy_train)\n",
        "    model.eval()\n",
        "\n",
        "    correct = 0\n",
        "    total = 0\n",
        "    valid_loss = 0.0\n",
        "    for input, target in validate_dataloader:\n",
        "      input = input.to(device)\n",
        "      target = target.type(torch.LongTensor)\n",
        "      target = target.to(device)\n",
        "      # calculate loss\n",
        "      prediction = model(input)\n",
        "      loss = loss_fn(prediction, target)\n",
        "      valid_loss = loss.item()*input.size(0)\n",
        "      for index, tensor_value in enumerate(prediction):\n",
        "            total +=1\n",
        "            # print(\"in for\",total)\n",
        "            if torch.argmax(tensor_value) == target[index]:\n",
        "                correct += 1\n",
        "                # print(\"in if\",correct)\n",
        "\n",
        "    print(\"Validating\\n----------------------\")\n",
        "    accuracy = correct /total\n",
        "    print(\"Accuracy = {}\".format(accuracy))\n",
        "\n",
        "    print(f\"loss: {valid_loss/len(validate_dataloader)}\")\n",
        "    eval_losses.append(valid_loss/len(validate_dataloader))\n",
        "    eval_accu.append(accuracy)\n",
        "\n",
        "    return train_loss/len(train_loader)\n",
        "\n",
        "    \n",
        "    # return accuracy\n",
        "\n",
        "def train(model, train_loader,val_loader, loss_fn, optimiser, device, epochs):\n",
        "    scheduler = torch.optim.lr_scheduler.ReduceLROnPlateau(optimiser, patience = 3, factor=0.3, verbose=True, threshold = 1e-3)\n",
        "    scheduler2 = torch.optim.lr_scheduler.MultiStepLR(optimiser, milestones=[20,30,40], gamma = 0.5)\n",
        "    for i in range(epochs):\n",
        "        print(f\"Epoch {i+1}\")\n",
        "        loss = train_single_epoch(model, train_loader,val_loader, loss_fn, optimiser, device)\n",
        "        scheduler.step(loss)\n",
        "        scheduler2.step()\n",
        "        print(\"---------------------------\")\n",
        "    print(\"Finished training\")\n"
      ]
    },
    {
      "cell_type": "code",
      "execution_count": null,
      "metadata": {
        "id": "OEzPZZR7v3Ic",
        "colab": {
          "base_uri": "https://localhost:8080/",
          "height": 295
        },
        "outputId": "6cdd6f8c-693a-4bb4-aff5-1db31a530e58"
      },
      "outputs": [
        {
          "output_type": "display_data",
          "data": {
            "text/plain": [
              "<Figure size 432x288 with 1 Axes>"
            ],
            "image/png": "[encoded data removed]"
          },
          "metadata": {
            "needs_background": "light"
          }
        }
      ],
      "source": [
        "import matplotlib.pyplot as plt\n",
        "plt.plot(train_accu,'-o')\n",
        "plt.plot(eval_accu,'-o')\n",
        "plt.xlabel('epoch')\n",
        "plt.ylabel('accuracy')\n",
        "plt.legend(['Train','Valid'])\n",
        "plt.title('Train vs Valid Accuracy')\n",
        "\n",
        "plt.show()"
      ]
    },
    {
      "cell_type": "code",
      "execution_count": null,
      "metadata": {
        "id": "v633mmC_v61X",
        "colab": {
          "base_uri": "https://localhost:8080/",
          "height": 295
        },
        "outputId": "ebd76d2c-4248-424b-cd12-d3467ed14da0"
      },
      "outputs": [
        {
          "output_type": "display_data",
          "data": {
            "text/plain": [
              "<Figure size 432x288 with 1 Axes>"
            ],
            "image/png": "[encoded data removed]"
          },
          "metadata": {
            "needs_background": "light"
          }
        }
      ],
      "source": [
        "plt.plot(train_losses,'-o')\n",
        "plt.plot(eval_losses,'-o')\n",
        "plt.xlabel('epoch')\n",
        "plt.ylabel('losses')\n",
        "plt.legend(['Train','Valid'])\n",
        "plt.title('Train vs Valid Losses')\n",
        "\n",
        "plt.show()"
      ]
    },
    {
      "cell_type": "code",
      "source": [
        "torch.cuda.empty_cache()\n"
      ],
      "metadata": {
        "id": "Fb_bmO-7H7x5"
      },
      "execution_count": null,
      "outputs": []
    },
    {
      "cell_type": "code",
      "execution_count": null,
      "metadata": {
        "id": "wj75GAyKwbY3",
        "colab": {
          "base_uri": "https://localhost:8080/"
        },
        "outputId": "e9fb679a-a31a-4a05-9597-be0a0d5a929c"
      },
      "outputs": [
        {
          "output_type": "stream",
          "name": "stdout",
          "text": [
            "Epoch 1\n",
            "Training\n",
            "----------------------\n",
            "before acc 798000 164108\n",
            "Accuracy = 0.20564912280701755\n",
            "lr 0.0001\n",
            "loss: 2.0336027875039524\n",
            "Validating\n",
            "----------------------\n",
            "Accuracy = 0.24142857142857144\n",
            "loss: 0.02228771305592661\n",
            "---------------------------\n",
            "Epoch 2\n",
            "Training\n",
            "----------------------\n",
            "before acc 798000 208549\n",
            "Accuracy = 0.26133959899749376\n",
            "lr 0.0001\n",
            "loss: 1.8849665209422737\n",
            "Validating\n",
            "----------------------\n",
            "Accuracy = 0.2741190476190476\n",
            "loss: 0.020734628646862208\n",
            "---------------------------\n",
            "Epoch 3\n",
            "Training\n",
            "----------------------\n",
            "before acc 798000 224886\n",
            "Accuracy = 0.28181203007518796\n",
            "lr 0.0001\n",
            "loss: 1.8105230885066737\n",
            "Validating\n",
            "----------------------\n",
            "Accuracy = 0.2884047619047619\n",
            "loss: 0.021267817570612982\n",
            "---------------------------\n",
            "Epoch 4\n",
            "Training\n",
            "----------------------\n",
            "before acc 798000 234560\n",
            "Accuracy = 0.2939348370927318\n",
            "lr 0.0001\n",
            "loss: 1.7642514323431044\n",
            "Validating\n",
            "----------------------\n",
            "Accuracy = 0.29595238095238097\n",
            "loss: 0.019075136555121858\n",
            "---------------------------\n",
            "Epoch 5\n",
            "Training\n",
            "----------------------\n",
            "before acc 798000 240721\n",
            "Accuracy = 0.30165538847117795\n",
            "lr 0.0001\n",
            "loss: 1.7374692028493695\n",
            "Validating\n",
            "----------------------\n",
            "Accuracy = 0.3074047619047619\n",
            "loss: 0.018504608340237944\n",
            "---------------------------\n",
            "Epoch 6\n",
            "Training\n",
            "----------------------\n",
            "before acc 798000 245352\n",
            "Accuracy = 0.3074586466165414\n",
            "lr 0.0001\n",
            "loss: 1.7120790134905355\n",
            "Validating\n",
            "----------------------\n",
            "Accuracy = 0.30988095238095237\n",
            "loss: 0.017978614464300057\n",
            "---------------------------\n",
            "Epoch 7\n",
            "Training\n",
            "----------------------\n",
            "before acc 798000 254552\n",
            "Accuracy = 0.3189874686716792\n",
            "lr 0.0001\n",
            "loss: 1.6680471326318393\n",
            "Validating\n",
            "----------------------\n",
            "Accuracy = 0.32371428571428573\n",
            "loss: 0.01618748335827423\n",
            "---------------------------\n",
            "Epoch 8\n",
            "Training\n",
            "----------------------\n",
            "before acc 798000 263112\n",
            "Accuracy = 0.32971428571428574\n",
            "lr 0.0001\n",
            "loss: 1.6259673912147157\n",
            "Validating\n",
            "----------------------\n",
            "Accuracy = 0.33314285714285713\n",
            "loss: 0.01666550734346365\n",
            "---------------------------\n",
            "Epoch 9\n",
            "Training\n",
            "----------------------\n",
            "before acc 798000 272369\n",
            "Accuracy = 0.3413145363408521\n",
            "lr 0.0001\n",
            "loss: 1.587970877080446\n",
            "Validating\n",
            "----------------------\n",
            "Accuracy = 0.3469047619047619\n",
            "loss: 0.017485787826735648\n",
            "---------------------------\n",
            "Epoch 10\n",
            "Training\n",
            "----------------------\n",
            "before acc 798000 279644\n",
            "Accuracy = 0.3504310776942356\n",
            "lr 0.0001\n",
            "loss: 1.5609846559482163\n",
            "Validating\n",
            "----------------------\n",
            "Accuracy = 0.35469047619047617\n",
            "loss: 0.017998174593272503\n",
            "---------------------------\n",
            "Epoch 11\n",
            "Training\n",
            "----------------------\n",
            "before acc 798000 287346\n",
            "Accuracy = 0.3600827067669173\n",
            "lr 0.0001\n",
            "loss: 1.5355108623177098\n",
            "Validating\n",
            "----------------------\n",
            "Accuracy = 0.3661904761904762\n",
            "loss: 0.01676957333078842\n",
            "---------------------------\n",
            "Epoch 12\n",
            "Training\n",
            "----------------------\n",
            "before acc 798000 297328\n",
            "Accuracy = 0.37259147869674186\n",
            "lr 0.0001\n",
            "loss: 1.5097412847628406\n",
            "Validating\n",
            "----------------------\n",
            "Accuracy = 0.37473809523809526\n",
            "loss: 0.01540910643833971\n",
            "---------------------------\n",
            "Epoch 13\n"
          ]
        }
      ],
      "source": [
        "from torch.utils.data import DataLoader\n",
        "train_losses = []\n",
        "train_accu = []\n",
        "eval_losses = []\n",
        "eval_accu = []\n",
        "lrs = []\n",
        "dataset_train = Dataset(data = featurespace_train, labels = y_train)\n",
        "dataset_val = Dataset(data = featurespace_validation, labels = y_val)\n",
        "if torch.cuda.is_available():\n",
        "    device = \"cuda\"\n",
        "else:\n",
        "    device = \"cpu\"\n",
        "rnn = RNN().to(device)\n",
        "train_dataloader = DataLoader(dataset_train, batch_size=32, shuffle = True)\n",
        "\n",
        "val_dataloader = DataLoader(dataset_val, batch_size=32)\n",
        "\n",
        "loss_func = nn.CrossEntropyLoss()\n",
        "optimiser = torch.optim.Adam(rnn.parameters(), lr=1e-4)\n",
        "train(rnn, train_dataloader,val_dataloader, loss_func, optimiser, device, 50)"
      ]
    },
    {
      "cell_type": "code",
      "source": [
        "torch.save(rnn.state_dict(), \"/content/drive/MyDrive/rnn49.pth\")"
      ],
      "metadata": {
        "id": "Kq4Mjvl3mi9d"
      },
      "execution_count": null,
      "outputs": []
    },
    {
      "cell_type": "code",
      "source": [
        "rnn = RNN().to(device)\n",
        "rnn.load_state_dict(torch.load(\"/content/drive/MyDrive/rnn49.pth\"))"
      ],
      "metadata": {
        "colab": {
          "base_uri": "https://localhost:8080/"
        },
        "id": "G-czYkqzMBKX",
        "outputId": "93ce4df3-1e3e-4adc-a159-ffac5420dfaa"
      },
      "execution_count": null,
      "outputs": [
        {
          "output_type": "execute_result",
          "data": {
            "text/plain": [
              "<All keys matched successfully>"
            ]
          },
          "metadata": {},
          "execution_count": 23
        }
      ]
    },
    {
      "cell_type": "code",
      "source": [
        "snrsacc=plot_snr(rnn)\n",
        "rcParams['figure.figsize'] = 10,8\n",
        "plt.plot(snrs,snrsacc,linestyle=\"-\",marker=\"o\");\n",
        "plt.ylabel('Accuracy')\n",
        "plt.xlabel('SNR in dB')\n",
        "plt.xticks(ticks=snrs, labels=snrs);"
      ],
      "metadata": {
        "id": "wB1Z7SATKqr8",
        "colab": {
          "base_uri": "https://localhost:8080/",
          "height": 497
        },
        "outputId": "d392e6de-bf94-40c3-a94b-7c8ff52f648a"
      },
      "execution_count": null,
      "outputs": [
        {
          "output_type": "display_data",
          "data": {
            "text/plain": [
              "<Figure size 720x576 with 1 Axes>"
            ],
            "image/png": "[encoded data removed]"
          },
          "metadata": {
            "needs_background": "light"
          }
        }
      ]
    },
    {
      "cell_type": "markdown",
      "metadata": {
        "id": "AjMrN1GaOvxu"
      },
      "source": [
        "#LSTM"
      ]
    },
    {
      "cell_type": "code",
      "execution_count": null,
      "metadata": {
        "id": "QlXpl2VED7y0"
      },
      "outputs": [],
      "source": [
        "import torch\n",
        "import torch.nn as nn\n",
        "import torchvision\n",
        "import torchvision.transforms as transforms\n",
        "import torch.nn.functional as F\n",
        "from torch.autograd import Variable"
      ]
    },
    {
      "cell_type": "code",
      "execution_count": null,
      "metadata": {
        "id": "vVCQUkUxOPWy"
      },
      "outputs": [],
      "source": [
        "class LSTM(nn.Module):\n",
        "    def __init__(self):\n",
        "        super(LSTM, self).__init__()\n",
        "        \n",
        "        self.num_layers = 5\n",
        "        self.hidden_size = 128\n",
        "\n",
        "        #self.rnn = nn.RNN(2, hidden_size, num_layers, batch_first=True)\n",
        "        # -> x needs to be: (batch_size, seq, input_size)\n",
        "\n",
        "        self.lstm = nn.LSTM(768, self.hidden_size, self.num_layers, batch_first=True)\n",
        "        self.fc = nn.Linear(self.hidden_size, 10)\n",
        "        \n",
        "    def forward(self, x):\n",
        "        # Set initial hidden states (and cell states for LSTM)\n",
        "        h0 = torch.zeros(self.num_layers, x.size(0), self.hidden_size).to(device) \n",
        "        c0 = torch.zeros(self.num_layers, x.size(0), self.hidden_size).to(device) \n",
        "        \n",
        "        #out, _ = self.rnn(x, h0)  \n",
        "        x = x.reshape((x.size(0), 1, 768))\n",
        "        out, _ = self.lstm(x, (h0,c0))  \n",
        "        out = out.contiguous().view(-1, 128)\n",
        "        out = self.fc(out)\n",
        "        return out\n",
        "\n",
        "#Expected hidden[0] size (10, 128, 128), got [10, 1, 128]\n"
      ]
    },
    {
      "cell_type": "code",
      "execution_count": null,
      "metadata": {
        "id": "tUxRPU2igG6k"
      },
      "outputs": [],
      "source": [
        "lrs = []\n",
        "train_losses = []\n",
        "train_accu = []\n",
        "eval_losses = []\n",
        "eval_accu = []\n",
        "\n",
        "def train_single_epoch(model, train_loader,validate_dataloader, loss_fn, optimiser, device):\n",
        "    correct = 0\n",
        "    total = 0\n",
        "    train_loss = 0.0\n",
        "    model.train()\n",
        "\n",
        "    for input, target in train_loader:\n",
        "        input = input.to(device)\n",
        "        target = target.type(torch.LongTensor)\n",
        "        target = target.to(device)\n",
        "        # calculate loss\n",
        "        prediction = model(input)\n",
        "        loss = loss_fn(prediction, target)\n",
        "\n",
        "        # backpropagate error and update weights\n",
        "        optimiser.zero_grad()\n",
        "        loss.backward()\n",
        "        optimiser.step()\n",
        "        lr = optimiser.param_groups[0][\"lr\"]\n",
        "        train_loss += loss.item()\n",
        "\n",
        "        for index, tensor_value in enumerate(prediction):\n",
        "            total +=1\n",
        "            # print(\"in for\",total)\n",
        "            if torch.argmax(tensor_value) == target[index]:\n",
        "                correct += 1\n",
        "                # print(\"in if\",correct)\n",
        "\n",
        "    lrs.append(lr)\n",
        "    accuracy_train = correct /total\n",
        "    print(\"Training\\n----------------------\")\n",
        "    print(\"before acc\",total,correct)\n",
        "    print(\"Accuracy = {}\".format(accuracy_train))\n",
        "    print(\"lr\",lr)\n",
        "\n",
        "    print(f\"loss: {train_loss/len(train_loader)}\")\n",
        "    train_losses.append(train_loss/len(train_loader))\n",
        "    train_accu.append(accuracy_train)\n",
        "    model.eval()\n",
        "\n",
        "    correct = 0\n",
        "    total = 0\n",
        "    valid_loss = 0.0\n",
        "    for input, target in validate_dataloader:\n",
        "      input = input.to(device)\n",
        "      target = target.type(torch.LongTensor)\n",
        "      target = target.to(device)\n",
        "      # calculate loss\n",
        "      prediction = model(input)\n",
        "      loss = loss_fn(prediction, target)\n",
        "      valid_loss = loss.item()*input.size(0)\n",
        "      for index, tensor_value in enumerate(prediction):\n",
        "            total +=1\n",
        "            # print(\"in for\",total)\n",
        "            if torch.argmax(tensor_value) == target[index]:\n",
        "                correct += 1\n",
        "                # print(\"in if\",correct)\n",
        "\n",
        "    print(\"Validating\\n----------------------\")\n",
        "    accuracy = correct /total\n",
        "    print(\"Accuracy = {}\".format(accuracy))\n",
        "\n",
        "    print(f\"loss: {valid_loss/len(validate_dataloader)}\")\n",
        "    eval_losses.append(valid_loss/len(validate_dataloader))\n",
        "    eval_accu.append(accuracy)\n",
        "\n",
        "    return train_loss/len(train_loader)\n",
        "\n",
        "    \n",
        "    # return accuracy\n",
        "\n",
        "def train(model, train_loader,val_loader, loss_fn, optimiser, device, epochs):\n",
        "    scheduler2 = torch.optim.lr_scheduler.MultiStepLR(optimiser, milestones=[20,40], gamma = 0.5)\n",
        "    scheduler = torch.optim.lr_scheduler.ReduceLROnPlateau(optimiser, patience = 3, factor=0.3, verbose=True, threshold = 1e-3)\n",
        "    for i in range(epochs):\n",
        "        print(f\"Epoch {i+1}\")\n",
        "        loss = train_single_epoch(model, train_loader,val_loader, loss_fn, optimiser, device)\n",
        "        scheduler.step(loss)\n",
        "        scheduler2.step()\n",
        "        print(\"---------------------------\")\n",
        "    print(\"Finished training\")\n"
      ]
    },
    {
      "cell_type": "markdown",
      "source": [
        "#Sum of features "
      ],
      "metadata": {
        "id": "1WXCZlzU9fvr"
      }
    },
    {
      "cell_type": "code",
      "source": [
        "from torch.utils.data import TensorDataset, DataLoader\n",
        "import torch\n",
        "train_losses = []\n",
        "train_accu = []\n",
        "eval_losses = []\n",
        "eval_accu = []\n",
        "lrs = []\n",
        "dataset_train = Dataset(data = X_train, labels = y_train)\n",
        "dataset_val = Dataset(data = X_val, labels = y_val)\n",
        "\n",
        "if torch.cuda.is_available():\n",
        "    device = \"cuda\"\n",
        "else:\n",
        "    device = \"cpu\"\n",
        "lstm = LSTM().to(device)\n",
        "train_dataloader = DataLoader(dataset_train, batch_size=128, shuffle = True)\n",
        "\n",
        "val_dataloader = DataLoader(dataset_val, batch_size=128, shuffle = True)\n",
        "\n",
        "\n",
        "loss_func = nn.CrossEntropyLoss()\n",
        "optimiser = torch.optim.AdamW(lstm.parameters(), lr=1e-3, weight_decay=1e-2)\n",
        "train(lstm, train_dataloader,val_dataloader, loss_func, optimiser, device, 50)"
      ],
      "metadata": {
        "colab": {
          "base_uri": "https://localhost:8080/"
        },
        "id": "N-UXKT-aiLyB",
        "outputId": "7175c012-a401-4a9d-bcb9-7f431255ed08"
      },
      "execution_count": null,
      "outputs": [
        {
          "output_type": "stream",
          "name": "stdout",
          "text": [
            "Epoch 1\n",
            "Training\n",
            "----------------------\n",
            "before acc 798000 209817\n",
            "Accuracy = 0.26292857142857146\n",
            "lr 0.001\n",
            "loss: 1.8556241807884089\n",
            "Validating\n",
            "----------------------\n",
            "Accuracy = 0.30526190476190473\n",
            "loss: 0.10161403899497175\n",
            "---------------------------\n",
            "Epoch 2\n",
            "Training\n",
            "----------------------\n",
            "before acc 798000 260889\n",
            "Accuracy = 0.3269285714285714\n",
            "lr 0.001\n",
            "loss: 1.6171028302971993\n",
            "Validating\n",
            "----------------------\n",
            "Accuracy = 0.3383095238095238\n",
            "loss: 0.09011229193319303\n",
            "---------------------------\n",
            "Epoch 3\n",
            "Training\n",
            "----------------------\n",
            "before acc 798000 277932\n",
            "Accuracy = 0.3482857142857143\n",
            "lr 0.001\n",
            "loss: 1.5523982440555393\n",
            "Validating\n",
            "----------------------\n",
            "Accuracy = 0.3621666666666667\n",
            "loss: 0.07915752492052444\n",
            "---------------------------\n",
            "Epoch 4\n",
            "Training\n",
            "----------------------\n",
            "before acc 798000 295796\n",
            "Accuracy = 0.370671679197995\n",
            "lr 0.001\n",
            "loss: 1.5003803102704365\n",
            "Validating\n",
            "----------------------\n",
            "Accuracy = 0.3743095238095238\n",
            "loss: 0.10746388304921994\n",
            "---------------------------\n",
            "Epoch 5\n",
            "Training\n",
            "----------------------\n",
            "before acc 798000 309521\n",
            "Accuracy = 0.38787092731829576\n",
            "lr 0.001\n",
            "loss: 1.460284139064186\n",
            "Validating\n",
            "----------------------\n",
            "Accuracy = 0.3906428571428571\n",
            "loss: 0.07776837798237438\n",
            "---------------------------\n",
            "Epoch 6\n",
            "Training\n",
            "----------------------\n",
            "before acc 798000 320793\n",
            "Accuracy = 0.40199624060150374\n",
            "lr 0.001\n",
            "loss: 1.4304689539272306\n",
            "Validating\n",
            "----------------------\n",
            "Accuracy = 0.4076904761904762\n",
            "loss: 0.055600638809899794\n",
            "---------------------------\n",
            "Epoch 7\n",
            "Training\n",
            "----------------------\n",
            "before acc 798000 329390\n",
            "Accuracy = 0.41276942355889723\n",
            "lr 0.001\n",
            "loss: 1.4058228950072214\n",
            "Validating\n",
            "----------------------\n",
            "Accuracy = 0.4112619047619048\n",
            "loss: 0.07906595479391267\n",
            "---------------------------\n",
            "Epoch 8\n",
            "Training\n",
            "----------------------\n",
            "before acc 798000 337456\n",
            "Accuracy = 0.42287719298245613\n",
            "lr 0.001\n",
            "loss: 1.3827705190195116\n",
            "Validating\n",
            "----------------------\n",
            "Accuracy = 0.42707142857142855\n",
            "loss: 0.05673800993110634\n",
            "---------------------------\n",
            "Epoch 9\n",
            "Training\n",
            "----------------------\n",
            "before acc 798000 345396\n",
            "Accuracy = 0.43282706766917295\n",
            "lr 0.001\n",
            "loss: 1.3616085019796107\n",
            "Validating\n",
            "----------------------\n",
            "Accuracy = 0.43683333333333335\n",
            "loss: 0.06358804094030503\n",
            "---------------------------\n",
            "Epoch 10\n",
            "Training\n",
            "----------------------\n",
            "before acc 798000 354038\n",
            "Accuracy = 0.44365664160401\n",
            "lr 0.001\n",
            "loss: 1.3399224077116134\n",
            "Validating\n",
            "----------------------\n",
            "Accuracy = 0.441547619047619\n",
            "loss: 0.047601247630945455\n",
            "---------------------------\n",
            "Epoch 11\n",
            "Training\n",
            "----------------------\n",
            "before acc 798000 369028\n",
            "Accuracy = 0.4624411027568922\n",
            "lr 0.0005\n",
            "loss: 1.2947321125766995\n",
            "Validating\n",
            "----------------------\n",
            "Accuracy = 0.45680952380952383\n",
            "loss: 0.0817210188752612\n",
            "---------------------------\n",
            "Epoch 12\n",
            "Training\n",
            "----------------------\n",
            "before acc 798000 374327\n",
            "Accuracy = 0.4690814536340852\n",
            "lr 0.0005\n",
            "loss: 1.2798729176414232\n",
            "Validating\n",
            "----------------------\n",
            "Accuracy = 0.4663333333333333\n",
            "loss: 0.0684395300218762\n",
            "---------------------------\n",
            "Epoch 13\n",
            "Training\n",
            "----------------------\n",
            "before acc 798000 378286\n",
            "Accuracy = 0.4740426065162907\n",
            "lr 0.0005\n",
            "loss: 1.2683453088774141\n",
            "Validating\n",
            "----------------------\n",
            "Accuracy = 0.4686666666666667\n",
            "loss: 0.09267249295776739\n",
            "---------------------------\n",
            "Epoch 14\n",
            "Training\n",
            "----------------------\n",
            "before acc 798000 382257\n",
            "Accuracy = 0.4790187969924812\n",
            "lr 0.0005\n",
            "loss: 1.258494307857183\n",
            "Validating\n",
            "----------------------\n",
            "Accuracy = 0.47795238095238096\n",
            "loss: 0.07370169039555234\n",
            "---------------------------\n",
            "Epoch 15\n",
            "Training\n",
            "----------------------\n",
            "before acc 798000 385652\n",
            "Accuracy = 0.48327318295739347\n",
            "lr 0.0005\n",
            "loss: 1.2483340165857897\n",
            "Validating\n",
            "----------------------\n",
            "Accuracy = 0.4836666666666667\n",
            "loss: 0.047764265066222215\n",
            "---------------------------\n",
            "Epoch 16\n",
            "Training\n",
            "----------------------\n",
            "before acc 798000 388889\n",
            "Accuracy = 0.4873295739348371\n",
            "lr 0.0005\n",
            "loss: 1.2397750578982025\n",
            "Validating\n",
            "----------------------\n",
            "Accuracy = 0.4852142857142857\n",
            "loss: 0.05575359193749703\n",
            "---------------------------\n",
            "Epoch 17\n",
            "Training\n",
            "----------------------\n",
            "before acc 798000 391836\n",
            "Accuracy = 0.4910225563909774\n",
            "lr 0.0005\n",
            "loss: 1.2313353916407588\n",
            "Validating\n",
            "----------------------\n",
            "Accuracy = 0.48523809523809525\n",
            "loss: 0.07018973979544132\n",
            "---------------------------\n",
            "Epoch 18\n",
            "Training\n",
            "----------------------\n",
            "before acc 798000 394761\n",
            "Accuracy = 0.494687969924812\n",
            "lr 0.0005\n",
            "loss: 1.2233886872947741\n",
            "Validating\n",
            "----------------------\n",
            "Accuracy = 0.493952380952381\n",
            "loss: 0.03810173254969634\n",
            "---------------------------\n",
            "Epoch 19\n",
            "Training\n",
            "----------------------\n",
            "before acc 798000 397423\n",
            "Accuracy = 0.49802380952380954\n",
            "lr 0.0005\n",
            "loss: 1.216347267872444\n",
            "Validating\n",
            "----------------------\n",
            "Accuracy = 0.4920952380952381\n",
            "loss: 0.07376862731748077\n",
            "---------------------------\n",
            "Epoch 20\n",
            "Training\n",
            "----------------------\n",
            "before acc 798000 399857\n",
            "Accuracy = 0.5010739348370927\n",
            "lr 0.0005\n",
            "loss: 1.2097162856994481\n",
            "Validating\n",
            "----------------------\n",
            "Accuracy = 0.4965\n",
            "loss: 0.06396585829714511\n",
            "---------------------------\n",
            "Epoch 21\n",
            "Training\n",
            "----------------------\n",
            "before acc 798000 407843\n",
            "Accuracy = 0.5110814536340852\n",
            "lr 0.00025\n",
            "loss: 1.1846955316011296\n",
            "Validating\n",
            "----------------------\n",
            "Accuracy = 0.5074761904761905\n",
            "loss: 0.035856702045104424\n",
            "---------------------------\n",
            "Epoch 22\n",
            "Training\n",
            "----------------------\n",
            "before acc 798000 409569\n",
            "Accuracy = 0.5132443609022557\n",
            "lr 0.00025\n",
            "loss: 1.1796822302897836\n",
            "Validating\n",
            "----------------------\n",
            "Accuracy = 0.507452380952381\n",
            "loss: 0.05696381913854721\n",
            "---------------------------\n",
            "Epoch 23\n",
            "Training\n",
            "----------------------\n",
            "before acc 798000 410968\n",
            "Accuracy = 0.5149974937343358\n",
            "lr 0.00025\n",
            "loss: 1.176120381070407\n",
            "Validating\n",
            "----------------------\n",
            "Accuracy = 0.5106666666666667\n",
            "loss: 0.052073823644759806\n",
            "---------------------------\n",
            "Epoch 24\n",
            "Training\n",
            "----------------------\n",
            "before acc 798000 412008\n",
            "Accuracy = 0.5163007518796993\n",
            "lr 0.00025\n",
            "loss: 1.1724266419338052\n",
            "Validating\n",
            "----------------------\n",
            "Accuracy = 0.5113333333333333\n",
            "loss: 0.05572902830176078\n",
            "---------------------------\n",
            "Epoch 25\n",
            "Training\n",
            "----------------------\n",
            "before acc 798000 412946\n",
            "Accuracy = 0.5174761904761904\n",
            "lr 0.00025\n",
            "loss: 1.1696608679334737\n",
            "Validating\n",
            "----------------------\n",
            "Accuracy = 0.5107142857142857\n",
            "loss: 0.06022379680969795\n",
            "---------------------------\n",
            "Epoch 26\n",
            "Training\n",
            "----------------------\n",
            "before acc 798000 414252\n",
            "Accuracy = 0.5191127819548872\n",
            "lr 0.00025\n",
            "loss: 1.1665417828078066\n",
            "Validating\n",
            "----------------------\n",
            "Accuracy = 0.5096904761904761\n",
            "loss: 0.045687475465351325\n",
            "---------------------------\n",
            "Epoch 27\n",
            "Training\n",
            "----------------------\n",
            "before acc 798000 414896\n",
            "Accuracy = 0.5199197994987469\n",
            "lr 0.00025\n",
            "loss: 1.163614493995642\n",
            "Validating\n",
            "----------------------\n",
            "Accuracy = 0.5131428571428571\n",
            "loss: 0.07945961068104103\n",
            "---------------------------\n",
            "Epoch 28\n",
            "Training\n",
            "----------------------\n",
            "before acc 798000 415536\n",
            "Accuracy = 0.5207218045112781\n",
            "lr 0.00025\n",
            "loss: 1.1613951384208636\n",
            "Validating\n",
            "----------------------\n",
            "Accuracy = 0.5169285714285714\n",
            "loss: 0.08129780198303037\n",
            "---------------------------\n",
            "Epoch 29\n",
            "Training\n",
            "----------------------\n",
            "before acc 798000 416763\n",
            "Accuracy = 0.5222593984962406\n",
            "lr 0.00025\n",
            "loss: 1.158491559256146\n",
            "Validating\n",
            "----------------------\n",
            "Accuracy = 0.5158095238095238\n",
            "loss: 0.06844638836057715\n",
            "---------------------------\n",
            "Epoch 30\n",
            "Training\n",
            "----------------------\n",
            "before acc 798000 417390\n",
            "Accuracy = 0.5230451127819549\n",
            "lr 0.00025\n",
            "loss: 1.156496102291771\n",
            "Validating\n",
            "----------------------\n",
            "Accuracy = 0.5194047619047619\n",
            "loss: 0.0683721351043794\n",
            "---------------------------\n",
            "Epoch 31\n",
            "Training\n",
            "----------------------\n",
            "before acc 798000 422655\n",
            "Accuracy = 0.5296428571428572\n",
            "lr 0.000125\n",
            "loss: 1.1421865044638169\n",
            "Validating\n",
            "----------------------\n",
            "Accuracy = 0.5243571428571429\n",
            "loss: 0.04602085565723547\n",
            "---------------------------\n",
            "Epoch 32\n",
            "Training\n",
            "----------------------\n",
            "before acc 798000 423095\n",
            "Accuracy = 0.5301942355889724\n",
            "lr 0.000125\n",
            "loss: 1.1398582973954385\n",
            "Validating\n",
            "----------------------\n",
            "Accuracy = 0.5229285714285714\n",
            "loss: 0.06993510585425472\n",
            "---------------------------\n",
            "Epoch 33\n",
            "Training\n",
            "----------------------\n",
            "before acc 798000 423591\n",
            "Accuracy = 0.5308157894736842\n",
            "lr 0.000125\n",
            "loss: 1.138271328871405\n",
            "Validating\n",
            "----------------------\n",
            "Accuracy = 0.5248571428571429\n",
            "loss: 0.05486724876705274\n",
            "---------------------------\n",
            "Epoch 34\n",
            "Training\n",
            "----------------------\n",
            "before acc 798000 423864\n",
            "Accuracy = 0.531157894736842\n",
            "lr 0.000125\n",
            "loss: 1.1369569846029366\n",
            "Validating\n",
            "----------------------\n",
            "Accuracy = 0.524547619047619\n",
            "loss: 0.060342730722166484\n",
            "---------------------------\n",
            "Epoch 35\n",
            "Training\n",
            "----------------------\n",
            "before acc 798000 424148\n",
            "Accuracy = 0.5315137844611528\n",
            "lr 0.000125\n",
            "loss: 1.1354694546941957\n",
            "Validating\n",
            "----------------------\n",
            "Accuracy = 0.5228809523809523\n",
            "loss: 0.03810902859302277\n",
            "---------------------------\n",
            "Epoch 36\n",
            "Training\n",
            "----------------------\n",
            "before acc 798000 424390\n",
            "Accuracy = 0.5318170426065163\n",
            "lr 0.000125\n",
            "loss: 1.1345320752456654\n",
            "Validating\n",
            "----------------------\n",
            "Accuracy = 0.5245238095238095\n",
            "loss: 0.07711764744349889\n",
            "---------------------------\n",
            "Epoch 37\n",
            "Training\n",
            "----------------------\n",
            "before acc 798000 425087\n",
            "Accuracy = 0.5326904761904762\n",
            "lr 0.000125\n",
            "loss: 1.1335065786897802\n",
            "Validating\n",
            "----------------------\n",
            "Accuracy = 0.5242857142857142\n",
            "loss: 0.050103416558819336\n",
            "---------------------------\n",
            "Epoch 38\n",
            "Training\n",
            "----------------------\n",
            "before acc 798000 425461\n",
            "Accuracy = 0.5331591478696742\n",
            "lr 0.000125\n",
            "loss: 1.1322030421821423\n",
            "Validating\n",
            "----------------------\n",
            "Accuracy = 0.5251666666666667\n",
            "loss: 0.04579393914405336\n",
            "---------------------------\n",
            "Epoch 39\n",
            "Training\n",
            "----------------------\n",
            "before acc 798000 425819\n",
            "Accuracy = 0.5336077694235589\n",
            "lr 0.000125\n",
            "loss: 1.1310168307116248\n",
            "Validating\n",
            "----------------------\n",
            "Accuracy = 0.5248809523809523\n",
            "loss: 0.03108970155107214\n",
            "---------------------------\n",
            "Epoch 40\n",
            "Training\n",
            "----------------------\n",
            "before acc 798000 426176\n",
            "Accuracy = 0.5340551378446116\n",
            "lr 0.000125\n",
            "loss: 1.1300176572111384\n",
            "Validating\n",
            "----------------------\n",
            "Accuracy = 0.5250476190476191\n",
            "loss: 0.06334074652303678\n",
            "---------------------------\n",
            "Epoch 41\n",
            "Training\n",
            "----------------------\n",
            "before acc 798000 428929\n",
            "Accuracy = 0.5375050125313283\n",
            "lr 6.25e-05\n",
            "loss: 1.1217944632937837\n",
            "Validating\n",
            "----------------------\n",
            "Accuracy = 0.5294761904761904\n",
            "loss: 0.04755196672804812\n",
            "---------------------------\n",
            "Epoch 42\n",
            "Training\n",
            "----------------------\n",
            "before acc 798000 429355\n",
            "Accuracy = 0.5380388471177945\n",
            "lr 6.25e-05\n",
            "loss: 1.1209360820537773\n",
            "Validating\n",
            "----------------------\n",
            "Accuracy = 0.5303809523809524\n",
            "loss: 0.052059562010605645\n",
            "---------------------------\n",
            "Epoch 43\n",
            "Training\n",
            "----------------------\n",
            "before acc 798000 429568\n",
            "Accuracy = 0.5383057644110276\n",
            "lr 6.25e-05\n",
            "loss: 1.1200793488559095\n",
            "Validating\n",
            "----------------------\n",
            "Accuracy = 0.5281904761904762\n",
            "loss: 0.07306527366754131\n",
            "---------------------------\n",
            "Epoch 44\n",
            "Training\n",
            "----------------------\n",
            "before acc 798000 429768\n",
            "Accuracy = 0.5385563909774436\n",
            "lr 6.25e-05\n",
            "loss: 1.1194383968423631\n",
            "Validating\n",
            "----------------------\n",
            "Accuracy = 0.5280714285714285\n",
            "loss: 0.0615434211800526\n",
            "---------------------------\n",
            "Epoch 45\n",
            "Training\n",
            "----------------------\n",
            "before acc 798000 429852\n",
            "Accuracy = 0.5386616541353384\n",
            "lr 6.25e-05\n",
            "loss: 1.1188873755998772\n",
            "Validating\n",
            "----------------------\n",
            "Accuracy = 0.5308095238095238\n",
            "loss: 0.0465503014329719\n",
            "---------------------------\n",
            "Epoch 46\n",
            "Training\n",
            "----------------------\n",
            "before acc 798000 430129\n",
            "Accuracy = 0.5390087719298245\n",
            "lr 6.25e-05\n",
            "loss: 1.1181475558468315\n",
            "Validating\n",
            "----------------------\n",
            "Accuracy = 0.5275952380952381\n",
            "loss: 0.04780006698562019\n",
            "---------------------------\n",
            "Epoch 47\n",
            "Training\n",
            "----------------------\n",
            "before acc 798000 430306\n",
            "Accuracy = 0.5392305764411027\n",
            "lr 6.25e-05\n",
            "loss: 1.1175735981347759\n",
            "Validating\n",
            "----------------------\n",
            "Accuracy = 0.5294761904761904\n",
            "loss: 0.0494124635736993\n",
            "---------------------------\n",
            "Epoch 48\n",
            "Training\n",
            "----------------------\n",
            "before acc 798000 430266\n",
            "Accuracy = 0.5391804511278195\n",
            "lr 6.25e-05\n",
            "loss: 1.1169814054547258\n",
            "Validating\n",
            "----------------------\n",
            "Accuracy = 0.5297142857142857\n",
            "loss: 0.05231343069337421\n",
            "---------------------------\n",
            "Epoch 49\n",
            "Training\n",
            "----------------------\n",
            "before acc 798000 430709\n",
            "Accuracy = 0.5397355889724311\n",
            "lr 6.25e-05\n",
            "loss: 1.1164407289496592\n",
            "Validating\n",
            "----------------------\n",
            "Accuracy = 0.5299761904761905\n",
            "loss: 0.06583241633731181\n",
            "---------------------------\n",
            "Epoch 50\n",
            "Training\n",
            "----------------------\n",
            "before acc 798000 430645\n",
            "Accuracy = 0.539655388471178\n",
            "lr 6.25e-05\n",
            "loss: 1.1157964365618078\n",
            "Validating\n",
            "----------------------\n",
            "Accuracy = 0.5285714285714286\n",
            "loss: 0.035697635546281345\n",
            "---------------------------\n",
            "Finished training\n"
          ]
        }
      ]
    },
    {
      "cell_type": "code",
      "source": [
        "from torch.utils.data import TensorDataset, DataLoader\n",
        "import torch\n",
        "train_losses = []\n",
        "train_accu = []\n",
        "eval_losses = []\n",
        "eval_accu = []\n",
        "lrs = []\n",
        "dataset_train = Dataset(data = featurespace_train, labels = y_train)\n",
        "dataset_val = Dataset(data = featurespace_validation, labels = y_val)\n",
        "\n",
        "if torch.cuda.is_available():\n",
        "    device = \"cuda\"\n",
        "else:\n",
        "    device = \"cpu\"\n",
        "lstm = LSTM().to(device)\n",
        "train_dataloader = DataLoader(dataset_train, batch_size=128, shuffle = True)\n",
        "\n",
        "val_dataloader = DataLoader(dataset_val, batch_size=128, shuffle = True)\n",
        "\n",
        "\n",
        "loss_func = nn.CrossEntropyLoss()\n",
        "optimiser = torch.optim.AdamW(lstm.parameters(), lr=1e-2, weight_decay=1e-2)\n",
        "train(lstm, train_dataloader,val_dataloader, loss_func, optimiser, device, 50)"
      ],
      "metadata": {
        "colab": {
          "base_uri": "https://localhost:8080/"
        },
        "id": "8Jo6uYH8iy0y",
        "outputId": "147c8f6d-d94e-4c11-ea15-1be8766c21f5"
      },
      "execution_count": null,
      "outputs": [
        {
          "output_type": "stream",
          "name": "stdout",
          "text": [
            "Epoch 1\n",
            "Training\n",
            "----------------------\n",
            "before acc 798000 231148\n",
            "Accuracy = 0.28965914786967417\n",
            "lr 0.01\n",
            "loss: 1.7442626761931272\n",
            "Validating\n",
            "----------------------\n",
            "Accuracy = 0.31611904761904763\n",
            "loss: 0.07262838067979435\n",
            "---------------------------\n",
            "Epoch 2\n",
            "Training\n",
            "----------------------\n",
            "before acc 798000 266716\n",
            "Accuracy = 0.33423057644110277\n",
            "lr 0.01\n",
            "loss: 1.5930088935705213\n",
            "Validating\n",
            "----------------------\n",
            "Accuracy = 0.35414285714285715\n",
            "loss: 0.07603374585554593\n",
            "---------------------------\n",
            "Epoch 3\n",
            "Training\n",
            "----------------------\n",
            "before acc 798000 292764\n",
            "Accuracy = 0.3668721804511278\n",
            "lr 0.01\n",
            "loss: 1.5191015159596226\n",
            "Validating\n",
            "----------------------\n",
            "Accuracy = 0.3834047619047619\n",
            "loss: 0.07941186319368589\n",
            "---------------------------\n",
            "Epoch 4\n",
            "Training\n",
            "----------------------\n",
            "before acc 798000 315381\n",
            "Accuracy = 0.39521428571428574\n",
            "lr 0.01\n",
            "loss: 1.457567772448493\n",
            "Validating\n",
            "----------------------\n",
            "Accuracy = 0.4107142857142857\n",
            "loss: 0.05680226844857167\n",
            "---------------------------\n",
            "Epoch 5\n",
            "Training\n",
            "----------------------\n",
            "before acc 798000 332432\n",
            "Accuracy = 0.4165814536340852\n",
            "lr 0.01\n",
            "loss: 1.417772649648004\n",
            "Validating\n",
            "----------------------\n",
            "Accuracy = 0.41283333333333333\n",
            "loss: 0.05105462117760377\n",
            "---------------------------\n",
            "Epoch 6\n",
            "Training\n",
            "----------------------\n",
            "before acc 798000 343300\n",
            "Accuracy = 0.4302005012531328\n",
            "lr 0.01\n",
            "loss: 1.3899433613588261\n",
            "Validating\n",
            "----------------------\n",
            "Accuracy = 0.43811904761904763\n",
            "loss: 0.05766733511602987\n",
            "---------------------------\n",
            "Epoch 7\n",
            "Training\n",
            "----------------------\n",
            "before acc 798000 351184\n",
            "Accuracy = 0.4400802005012531\n",
            "lr 0.01\n",
            "loss: 1.3699359533589843\n",
            "Validating\n",
            "----------------------\n",
            "Accuracy = 0.4349047619047619\n",
            "loss: 0.0690982667870797\n",
            "---------------------------\n",
            "Epoch 8\n",
            "Training\n",
            "----------------------\n",
            "before acc 798000 354811\n",
            "Accuracy = 0.44462531328320803\n",
            "lr 0.01\n",
            "loss: 1.357466275881268\n",
            "Validating\n",
            "----------------------\n",
            "Accuracy = 0.4486428571428571\n",
            "loss: 0.05774432475081331\n",
            "---------------------------\n",
            "Epoch 9\n",
            "Training\n",
            "----------------------\n",
            "before acc 798000 357836\n",
            "Accuracy = 0.4484160401002506\n",
            "lr 0.01\n",
            "loss: 1.3480328244788224\n",
            "Validating\n",
            "----------------------\n",
            "Accuracy = 0.44245238095238093\n",
            "loss: 0.0681178721975773\n",
            "---------------------------\n",
            "Epoch 10\n",
            "Training\n",
            "----------------------\n",
            "before acc 798000 359814\n",
            "Accuracy = 0.45089473684210524\n",
            "lr 0.01\n",
            "loss: 1.342087713010615\n",
            "Validating\n",
            "----------------------\n",
            "Accuracy = 0.4595238095238095\n",
            "loss: 0.045148597299871474\n",
            "---------------------------\n",
            "Epoch 11\n",
            "Training\n",
            "----------------------\n",
            "before acc 798000 361938\n",
            "Accuracy = 0.4535563909774436\n",
            "lr 0.01\n",
            "loss: 1.3363167732930126\n",
            "Validating\n",
            "----------------------\n",
            "Accuracy = 0.4510952380952381\n",
            "loss: 0.06486185415899862\n",
            "---------------------------\n",
            "Epoch 12\n",
            "Training\n",
            "----------------------\n",
            "before acc 798000 362301\n",
            "Accuracy = 0.4540112781954887\n",
            "lr 0.01\n",
            "loss: 1.3331936534156585\n",
            "Validating\n",
            "----------------------\n",
            "Accuracy = 0.45871428571428574\n",
            "loss: 0.056726820925448805\n",
            "---------------------------\n",
            "Epoch 13\n",
            "Training\n",
            "----------------------\n",
            "before acc 798000 364591\n",
            "Accuracy = 0.4568809523809524\n",
            "lr 0.01\n",
            "loss: 1.327767364560076\n",
            "Validating\n",
            "----------------------\n",
            "Accuracy = 0.45526190476190476\n",
            "loss: 0.07007224364121271\n",
            "---------------------------\n",
            "Epoch 14\n",
            "Training\n",
            "----------------------\n",
            "before acc 798000 365619\n",
            "Accuracy = 0.45816917293233084\n",
            "lr 0.01\n",
            "loss: 1.323160485563607\n",
            "Validating\n",
            "----------------------\n",
            "Accuracy = 0.4574285714285714\n",
            "loss: 0.06402623834580998\n",
            "---------------------------\n",
            "Epoch 15\n",
            "Training\n",
            "----------------------\n",
            "before acc 798000 366469\n",
            "Accuracy = 0.459234335839599\n",
            "lr 0.01\n",
            "loss: 1.320643133732827\n",
            "Validating\n",
            "----------------------\n",
            "Accuracy = 0.4590714285714286\n",
            "loss: 0.07592216306182026\n",
            "---------------------------\n",
            "Epoch 16\n",
            "Training\n",
            "----------------------\n",
            "before acc 798000 367392\n",
            "Accuracy = 0.460390977443609\n",
            "lr 0.01\n",
            "loss: 1.3187018375350843\n",
            "Validating\n",
            "----------------------\n",
            "Accuracy = 0.45202380952380955\n",
            "loss: 0.0514111040573352\n",
            "---------------------------\n",
            "Epoch 17\n",
            "Training\n",
            "----------------------\n",
            "before acc 798000 367997\n",
            "Accuracy = 0.46114912280701753\n",
            "lr 0.01\n",
            "loss: 1.3164305384864592\n",
            "Validating\n",
            "----------------------\n",
            "Accuracy = 0.4653095238095238\n",
            "loss: 0.09182660413005794\n",
            "---------------------------\n",
            "Epoch 18\n",
            "Training\n",
            "----------------------\n",
            "before acc 798000 368344\n",
            "Accuracy = 0.4615839598997494\n",
            "lr 0.01\n",
            "loss: 1.314427582875384\n",
            "Validating\n",
            "----------------------\n",
            "Accuracy = 0.4630952380952381\n",
            "loss: 0.06350352046699871\n",
            "---------------------------\n",
            "Epoch 19\n",
            "Training\n",
            "----------------------\n",
            "before acc 798000 369251\n",
            "Accuracy = 0.4627205513784461\n",
            "lr 0.01\n",
            "loss: 1.312392616109458\n",
            "Validating\n",
            "----------------------\n",
            "Accuracy = 0.47014285714285714\n",
            "loss: 0.06178344564234957\n",
            "---------------------------\n",
            "Epoch 20\n",
            "Training\n",
            "----------------------\n",
            "before acc 798000 369377\n",
            "Accuracy = 0.4628784461152882\n",
            "lr 0.01\n",
            "loss: 1.3122431778582746\n",
            "Validating\n",
            "----------------------\n",
            "Accuracy = 0.4587380952380952\n",
            "loss: 0.08733157473856917\n",
            "---------------------------\n",
            "Epoch 21\n",
            "Training\n",
            "----------------------\n",
            "before acc 798000 397188\n",
            "Accuracy = 0.4977293233082707\n",
            "lr 0.005\n",
            "loss: 1.2178231142383626\n",
            "Validating\n",
            "----------------------\n",
            "Accuracy = 0.49685714285714283\n",
            "loss: 0.04754609394943098\n",
            "---------------------------\n",
            "Epoch 22\n",
            "Training\n",
            "----------------------\n",
            "before acc 798000 399245\n",
            "Accuracy = 0.5003070175438596\n",
            "lr 0.005\n",
            "loss: 1.2122779810533777\n",
            "Validating\n",
            "----------------------\n",
            "Accuracy = 0.49757142857142855\n",
            "loss: 0.0557499569600114\n",
            "---------------------------\n",
            "Epoch 23\n",
            "Training\n",
            "----------------------\n",
            "before acc 798000 399216\n",
            "Accuracy = 0.5002706766917293\n",
            "lr 0.005\n",
            "loss: 1.21309784090605\n",
            "Validating\n",
            "----------------------\n",
            "Accuracy = 0.4942857142857143\n",
            "loss: 0.08183418436253324\n",
            "---------------------------\n",
            "Epoch 24\n",
            "Training\n",
            "----------------------\n",
            "before acc 798000 399677\n",
            "Accuracy = 0.5008483709273183\n",
            "lr 0.005\n",
            "loss: 1.2130918961290178\n",
            "Validating\n",
            "----------------------\n",
            "Accuracy = 0.49873809523809526\n",
            "loss: 0.06713920523692772\n",
            "---------------------------\n",
            "Epoch 25\n",
            "Training\n",
            "----------------------\n",
            "before acc 798000 399282\n",
            "Accuracy = 0.5003533834586467\n",
            "lr 0.005\n",
            "loss: 1.2134057240000513\n",
            "Validating\n",
            "----------------------\n",
            "Accuracy = 0.48228571428571426\n",
            "loss: 0.02482675998768908\n",
            "---------------------------\n",
            "Epoch 26\n",
            "Training\n",
            "----------------------\n",
            "before acc 798000 399511\n",
            "Accuracy = 0.5006403508771929\n",
            "lr 0.005\n",
            "loss: 1.2134190577072628\n",
            "Validating\n",
            "----------------------\n",
            "Accuracy = 0.49923809523809526\n",
            "loss: 0.06910528745332388\n",
            "Epoch 00026: reducing learning rate of group 0 to 1.5000e-03.\n",
            "---------------------------\n",
            "Epoch 27\n",
            "Training\n",
            "----------------------\n",
            "before acc 798000 426672\n",
            "Accuracy = 0.5346766917293233\n",
            "lr 0.0015\n",
            "loss: 1.1262744853184905\n",
            "Validating\n",
            "----------------------\n",
            "Accuracy = 0.5320952380952381\n",
            "loss: 0.04634587887935001\n",
            "---------------------------\n",
            "Epoch 28\n",
            "Training\n",
            "----------------------\n",
            "before acc 798000 430107\n",
            "Accuracy = 0.5389812030075188\n",
            "lr 0.0015\n",
            "loss: 1.1163169058495364\n",
            "Validating\n",
            "----------------------\n",
            "Accuracy = 0.5325\n",
            "loss: 0.03811930160754357\n",
            "---------------------------\n",
            "Epoch 29\n",
            "Training\n",
            "----------------------\n",
            "before acc 798000 430853\n",
            "Accuracy = 0.5399160401002506\n",
            "lr 0.0015\n",
            "loss: 1.1137402600255506\n",
            "Validating\n",
            "----------------------\n",
            "Accuracy = 0.5300952380952381\n",
            "loss: 0.03837238184224508\n",
            "---------------------------\n",
            "Epoch 30\n",
            "Training\n",
            "----------------------\n",
            "before acc 798000 431590\n",
            "Accuracy = 0.5408395989974938\n",
            "lr 0.0015\n",
            "loss: 1.1122074590842057\n",
            "Validating\n",
            "----------------------\n",
            "Accuracy = 0.5290238095238096\n",
            "loss: 0.05960307947408102\n",
            "---------------------------\n",
            "Epoch 31\n",
            "Training\n",
            "----------------------\n",
            "before acc 798000 432015\n",
            "Accuracy = 0.5413721804511278\n",
            "lr 0.0015\n",
            "loss: 1.1116964537617486\n",
            "Validating\n",
            "----------------------\n",
            "Accuracy = 0.5287380952380952\n",
            "loss: 0.05352414487705404\n",
            "---------------------------\n",
            "Epoch 32\n",
            "Training\n",
            "----------------------\n",
            "before acc 798000 432649\n",
            "Accuracy = 0.5421666666666667\n",
            "lr 0.0015\n",
            "loss: 1.1095981528019083\n",
            "Validating\n",
            "----------------------\n",
            "Accuracy = 0.531952380952381\n",
            "loss: 0.07113284542930162\n",
            "---------------------------\n",
            "Epoch 33\n",
            "Training\n",
            "----------------------\n",
            "before acc 798000 432814\n",
            "Accuracy = 0.54237343358396\n",
            "lr 0.0015\n",
            "loss: 1.1092115339032151\n",
            "Validating\n",
            "----------------------\n",
            "Accuracy = 0.5313333333333333\n",
            "loss: 0.06637412074126733\n",
            "---------------------------\n",
            "Epoch 34\n",
            "Training\n",
            "----------------------\n",
            "before acc 798000 433564\n",
            "Accuracy = 0.5433132832080201\n",
            "lr 0.0015\n",
            "loss: 1.1082487891842674\n",
            "Validating\n",
            "----------------------\n",
            "Accuracy = 0.5251666666666667\n",
            "loss: 0.07538452844126971\n",
            "---------------------------\n",
            "Epoch 35\n",
            "Training\n",
            "----------------------\n",
            "before acc 798000 434314\n",
            "Accuracy = 0.5442531328320802\n",
            "lr 0.0015\n",
            "loss: 1.10605660590919\n",
            "Validating\n",
            "----------------------\n",
            "Accuracy = 0.5340952380952381\n",
            "loss: 0.054660959446683845\n",
            "---------------------------\n",
            "Epoch 36\n",
            "Training\n",
            "----------------------\n",
            "before acc 798000 434301\n",
            "Accuracy = 0.5442368421052631\n",
            "lr 0.0015\n",
            "loss: 1.105175681198322\n",
            "Validating\n",
            "----------------------\n",
            "Accuracy = 0.5308333333333334\n",
            "loss: 0.04900392572930519\n",
            "---------------------------\n",
            "Epoch 37\n",
            "Training\n",
            "----------------------\n",
            "before acc 798000 434891\n",
            "Accuracy = 0.5449761904761905\n",
            "lr 0.0015\n",
            "loss: 1.1040282445997835\n",
            "Validating\n",
            "----------------------\n",
            "Accuracy = 0.5334285714285715\n",
            "loss: 0.04777121036610705\n",
            "---------------------------\n",
            "Epoch 38\n",
            "Training\n",
            "----------------------\n",
            "before acc 798000 435311\n",
            "Accuracy = 0.5455025062656642\n",
            "lr 0.0015\n",
            "loss: 1.1022524671355725\n",
            "Validating\n",
            "----------------------\n",
            "Accuracy = 0.5331904761904762\n",
            "loss: 0.03001159447667084\n",
            "---------------------------\n",
            "Epoch 39\n",
            "Training\n",
            "----------------------\n",
            "before acc 798000 436297\n",
            "Accuracy = 0.5467380952380952\n",
            "lr 0.0015\n",
            "loss: 1.1006402376850988\n",
            "Validating\n",
            "----------------------\n",
            "Accuracy = 0.5321904761904762\n",
            "loss: 0.061497778153347026\n",
            "---------------------------\n",
            "Epoch 40\n",
            "Training\n",
            "----------------------\n",
            "before acc 798000 435883\n",
            "Accuracy = 0.546219298245614\n",
            "lr 0.0015\n",
            "loss: 1.099568183534893\n",
            "Validating\n",
            "----------------------\n",
            "Accuracy = 0.5307619047619048\n",
            "loss: 0.08443426578602892\n",
            "---------------------------\n",
            "Epoch 41\n",
            "Training\n",
            "----------------------\n",
            "before acc 798000 448946\n",
            "Accuracy = 0.5625889724310777\n",
            "lr 0.00075\n",
            "loss: 1.061779520974316\n",
            "Validating\n",
            "----------------------\n",
            "Accuracy = 0.5405714285714286\n",
            "loss: 0.04188786306642109\n",
            "---------------------------\n",
            "Epoch 42\n",
            "Training\n",
            "----------------------\n",
            "before acc 798000 450416\n",
            "Accuracy = 0.5644310776942356\n",
            "lr 0.00075\n",
            "loss: 1.0565630258993808\n",
            "Validating\n",
            "----------------------\n",
            "Accuracy = 0.5420714285714285\n",
            "loss: 0.06886802255926161\n",
            "---------------------------\n",
            "Epoch 43\n",
            "Training\n",
            "----------------------\n",
            "before acc 798000 451382\n",
            "Accuracy = 0.5656416040100251\n",
            "lr 0.00075\n",
            "loss: 1.0551095668850847\n",
            "Validating\n",
            "----------------------\n",
            "Accuracy = 0.5411666666666667\n",
            "loss: 0.05678921267616713\n",
            "---------------------------\n",
            "Epoch 44\n",
            "Training\n",
            "----------------------\n",
            "before acc 798000 451749\n",
            "Accuracy = 0.5661015037593985\n",
            "lr 0.00075\n",
            "loss: 1.0536249200248107\n",
            "Validating\n",
            "----------------------\n",
            "Accuracy = 0.5414047619047619\n",
            "loss: 0.03306207685847413\n",
            "---------------------------\n",
            "Epoch 45\n",
            "Training\n",
            "----------------------\n",
            "before acc 798000 452362\n",
            "Accuracy = 0.5668696741854636\n",
            "lr 0.00075\n",
            "loss: 1.0527538954303468\n",
            "Validating\n",
            "----------------------\n",
            "Accuracy = 0.5441190476190476\n",
            "loss: 0.0588172344451255\n",
            "---------------------------\n",
            "Epoch 46\n",
            "Training\n",
            "----------------------\n",
            "before acc 798000 452711\n",
            "Accuracy = 0.5673070175438597\n",
            "lr 0.00075\n",
            "loss: 1.0510692454091817\n",
            "Validating\n",
            "----------------------\n",
            "Accuracy = 0.5452857142857143\n",
            "loss: 0.04359490820702086\n",
            "---------------------------\n",
            "Epoch 47\n",
            "Training\n",
            "----------------------\n",
            "before acc 798000 453501\n",
            "Accuracy = 0.568296992481203\n",
            "lr 0.00075\n",
            "loss: 1.0503314634849286\n",
            "Validating\n",
            "----------------------\n",
            "Accuracy = 0.5346666666666666\n",
            "loss: 0.051206930792440396\n",
            "---------------------------\n",
            "Epoch 48\n",
            "Training\n",
            "----------------------\n",
            "before acc 798000 453419\n",
            "Accuracy = 0.5681942355889724\n",
            "lr 0.00075\n",
            "loss: 1.049777302908343\n",
            "Validating\n",
            "----------------------\n",
            "Accuracy = 0.5371904761904762\n",
            "loss: 0.07292263413635068\n",
            "---------------------------\n",
            "Epoch 49\n",
            "Training\n",
            "----------------------\n",
            "before acc 798000 453779\n",
            "Accuracy = 0.5686453634085213\n",
            "lr 0.00075\n",
            "loss: 1.0493626645305392\n",
            "Validating\n",
            "----------------------\n",
            "Accuracy = 0.5445952380952381\n",
            "loss: 0.04239820636876811\n",
            "---------------------------\n",
            "Epoch 50\n",
            "Training\n",
            "----------------------\n",
            "before acc 798000 454552\n",
            "Accuracy = 0.5696140350877194\n",
            "lr 0.00075\n",
            "loss: 1.0481238551204837\n",
            "Validating\n",
            "----------------------\n",
            "Accuracy = 0.5432380952380952\n",
            "loss: 0.05709802343490276\n",
            "---------------------------\n",
            "Finished training\n"
          ]
        }
      ]
    },
    {
      "cell_type": "code",
      "source": [
        "import matplotlib.pyplot as plt\n",
        "plt.plot(train_accu,'-o')\n",
        "plt.plot(eval_accu,'-o')\n",
        "plt.xlabel('epoch')\n",
        "plt.ylabel('accuracy')\n",
        "plt.legend(['Train','Valid'])\n",
        "plt.title('Train vs Valid Accuracy')\n",
        "\n",
        "plt.show()"
      ],
      "metadata": {
        "colab": {
          "base_uri": "https://localhost:8080/",
          "height": 295
        },
        "id": "HvQOvfdoitN1",
        "outputId": "80e372d7-e2dd-4dac-8510-0c18c13b588a"
      },
      "execution_count": null,
      "outputs": [
        {
          "output_type": "display_data",
          "data": {
            "text/plain": [
              "<Figure size 432x288 with 1 Axes>"
            ],
            "image/png": "[encoded data removed]"
          },
          "metadata": {
            "needs_background": "light"
          }
        }
      ]
    },
    {
      "cell_type": "code",
      "source": [
        "plt.plot(train_losses,'-o')\n",
        "plt.plot(eval_losses,'-o')\n",
        "plt.xlabel('epoch')\n",
        "plt.ylabel('losses')\n",
        "plt.legend(['Train','Valid'])\n",
        "plt.title('Train vs Valid Losses')\n",
        "\n",
        "plt.show()"
      ],
      "metadata": {
        "colab": {
          "base_uri": "https://localhost:8080/",
          "height": 295
        },
        "id": "D-ZvCgZ-ixvM",
        "outputId": "87c25f9d-2ba2-41d1-f452-022340887bc9"
      },
      "execution_count": null,
      "outputs": [
        {
          "output_type": "display_data",
          "data": {
            "text/plain": [
              "<Figure size 432x288 with 1 Axes>"
            ],
            "image/png": "[encoded data removed]"
          },
          "metadata": {
            "needs_background": "light"
          }
        }
      ]
    },
    {
      "cell_type": "code",
      "execution_count": null,
      "metadata": {
        "id": "cR_oLRQpa_90"
      },
      "outputs": [],
      "source": [
        "torch.save(lstm.state_dict(), \"/content/drive/MyDrive/lstmfinalresult.pth\")"
      ]
    },
    {
      "cell_type": "code",
      "source": [
        "lstm = LSTM().to(device)\n",
        "lstm.load_state_dict(torch.load(\"/content/drive/MyDrive/lstmfinal.pth\"))"
      ],
      "metadata": {
        "colab": {
          "base_uri": "https://localhost:8080/"
        },
        "id": "wSsVrPmMdnvP",
        "outputId": "2036da1b-1749-44ec-a6f5-741ffdf895d0"
      },
      "execution_count": null,
      "outputs": [
        {
          "output_type": "execute_result",
          "data": {
            "text/plain": [
              "<All keys matched successfully>"
            ]
          },
          "metadata": {},
          "execution_count": 54
        }
      ]
    },
    {
      "cell_type": "code",
      "source": [
        "from matplotlib import rcParams\n",
        "snrsacc = plot_snr(lstm)\n",
        "rcParams['figure.figsize'] = 10,8\n",
        "plt.plot(snrs,snrsacc,linestyle=\"-\",marker=\"o\");\n",
        "plt.ylabel('Accuracy')\n",
        "plt.xlabel('SNR in dB')\n",
        "plt.xticks(ticks=snrs, labels=snrs);"
      ],
      "metadata": {
        "id": "GIqWhRjbdsBT",
        "colab": {
          "base_uri": "https://localhost:8080/",
          "height": 497
        },
        "outputId": "200438ea-73e1-47a7-8481-677d2d6c5556"
      },
      "execution_count": null,
      "outputs": [
        {
          "output_type": "display_data",
          "data": {
            "text/plain": [
              "<Figure size 720x576 with 1 Axes>"
            ],
            "image/png": "[encoded data removed]"
          },
          "metadata": {
            "needs_background": "light"
          }
        }
      ]
    },
    {
      "cell_type": "markdown",
      "source": [
        "## Test function"
      ],
      "metadata": {
        "id": "vBouBx2zbXK7"
      }
    },
    {
      "cell_type": "code",
      "source": [
        "if torch.cuda.is_available():\n",
        "    device = \"cuda\"\n",
        "else:\n",
        "    device = \"cpu\"\n",
        "cnn = CNN().to(device)\n",
        "cnn.load_state_dict(torch.load(\"/content/drive/MyDrive/cnn55.8.pth\"))"
      ],
      "metadata": {
        "colab": {
          "base_uri": "https://localhost:8080/"
        },
        "id": "2Lzw7Ym9MXqH",
        "outputId": "2f39f22a-af9d-4449-9c17-65bb1563d2be"
      },
      "execution_count": null,
      "outputs": [
        {
          "output_type": "execute_result",
          "data": {
            "text/plain": [
              "<All keys matched successfully>"
            ]
          },
          "metadata": {},
          "execution_count": 15
        }
      ]
    },
    {
      "cell_type": "code",
      "source": [
        "from google.colab import drive\n",
        "drive.mount('/content/drive')"
      ],
      "metadata": {
        "colab": {
          "base_uri": "https://localhost:8080/"
        },
        "id": "17Ua2MLNM4tS",
        "outputId": "7bd07ea2-cffb-4342-db3b-b35535bd920f"
      },
      "execution_count": null,
      "outputs": [
        {
          "output_type": "stream",
          "name": "stdout",
          "text": [
            "Mounted at /content/drive\n"
          ]
        }
      ]
    },
    {
      "cell_type": "code",
      "source": [
        "from sklearn.metrics import confusion_matrix\n",
        "import seaborn as sn\n",
        "import pandas as pd\n",
        "import matplotlib.pyplot as plt\n",
        "from sklearn.metrics import classification_report\n",
        "\n",
        "\n",
        "def test_model(model, test_dataloader, device):\n",
        "  y_pred = []\n",
        "  y_true = []\n",
        "  acc = []\n",
        "  total = 0\n",
        "  correct = 0\n",
        "  model.eval()\n",
        "  for input, target in test_dataloader:\n",
        "    input = input.to(device)\n",
        "    target = target.type(torch.LongTensor)\n",
        "    target = target.to(device)\n",
        "    prediction = model(input)\n",
        "    for index, tensor_value in enumerate(prediction):\n",
        "            total +=1\n",
        "            y_pred.append(torch.argmax(tensor_value).data.cpu().numpy())\n",
        "            y_true.append(target[index].data.cpu().numpy())\n",
        "            if torch.argmax(tensor_value) == target[index]:\n",
        "                correct += 1\n",
        "\n",
        "    accuracy = correct /total\n",
        "    acc.append(accuracy)\n",
        "\n",
        "  \n",
        "  classes = ('8PSK','AM-DSB','BPSK','CPFSK','GFSK','PAM4','QAM16','QAM64','QPSK','WBFM')\n",
        "  target_name = ['8PSK','AM-DSB','BPSK','CPFSK','GFSK','PAM4','QAM16','QAM64','QPSK','WBFM']\n",
        "\n",
        "  cf_matrix = confusion_matrix(y_true, y_pred)\n",
        "  df_cm = pd.DataFrame(cf_matrix/np.sum(cf_matrix) *6, index = [i for i in classes],\n",
        "                     columns = [i for i in classes])\n",
        "  plt.figure(figsize = (12,7))\n",
        "  sn.heatmap(df_cm, annot=True)\n",
        "  plt.savefig('output.png')\n",
        "  print(classification_report(y_true, y_pred, target_names=target_name))\n",
        "  acc = np.array(acc)\n",
        "  print('Model Average accuracy', np.mean(acc))\n",
        "\n"
      ],
      "metadata": {
        "id": "71w_jVanbVeC"
      },
      "execution_count": null,
      "outputs": []
    },
    {
      "cell_type": "code",
      "source": [
        "snr0indices = y_test.index[y_test['snr']==0].tolist()\n",
        "labels0 = y_test.iloc[snr0indices]\n",
        "labels0 = labels0.drop(['snr'],axis = 1)\n",
        "labels0=np.array(labels0)\n",
        "labels0 = np.unique(labels0, return_inverse= True)[1]\n",
        "featurespace_test10 = featurespace_test1[snr0indices]"
      ],
      "metadata": {
        "id": "Xp_iAb1o_5rC"
      },
      "execution_count": null,
      "outputs": []
    },
    {
      "cell_type": "code",
      "source": [
        "#lstm model\n",
        "from torch.utils.data import TensorDataset, DataLoader\n",
        "dataset_test = Dataset(data = featurespace_test10, labels = labels0)\n",
        "test_dataloader = DataLoader(dataset_test, batch_size=128)\n",
        "# print(x_spectro_test)\n",
        "test_model(lstm,test_dataloader,device )\n"
      ],
      "metadata": {
        "colab": {
          "base_uri": "https://localhost:8080/",
          "height": 750
        },
        "id": "6_mUw41hMca_",
        "outputId": "cbe683b7-f1ad-47dd-acd9-447bec92bb67"
      },
      "execution_count": null,
      "outputs": [
        {
          "output_type": "stream",
          "name": "stdout",
          "text": [
            "              precision    recall  f1-score   support\n",
            "\n",
            "        8PSK       0.61      0.49      0.54      1800\n",
            "      AM-DSB       0.60      0.97      0.74      1800\n",
            "        BPSK       0.93      0.91      0.92      1800\n",
            "       CPFSK       0.91      0.89      0.90      1800\n",
            "        GFSK       0.97      0.95      0.96      1800\n",
            "        PAM4       0.92      0.96      0.94      1800\n",
            "       QAM16       0.45      0.43      0.44      1800\n",
            "       QAM64       0.45      0.56      0.50      1800\n",
            "        QPSK       0.69      0.67      0.68      1800\n",
            "        WBFM       0.82      0.33      0.47      1800\n",
            "\n",
            "    accuracy                           0.72     18000\n",
            "   macro avg       0.73      0.72      0.71     18000\n",
            "weighted avg       0.73      0.72      0.71     18000\n",
            "\n",
            "Model Average accuracy 0.7093245325780001\n"
          ]
        },
        {
          "output_type": "display_data",
          "data": {
            "text/plain": [
              "<Figure size 864x504 with 2 Axes>"
            ],
            "image/png": "[encoded data removed]"
          },
          "metadata": {
            "needs_background": "light"
          }
        }
      ]
    },
    {
      "cell_type": "code",
      "source": [
        "from torch.utils.data import TensorDataset, DataLoader\n",
        "dataset_test = Dataset(data = featurespace_test10, labels = labels0)\n",
        "test_dataloader = DataLoader(dataset_test, batch_size=128)\n",
        "# print(x_spectro_test)\n",
        "test_model(rnn,test_dataloader,device )\n"
      ],
      "metadata": {
        "colab": {
          "base_uri": "https://localhost:8080/",
          "height": 740
        },
        "id": "uGj0aJTgGXIw",
        "outputId": "be760fc5-0c3f-4a14-b941-4b7277a80cff"
      },
      "execution_count": null,
      "outputs": [
        {
          "output_type": "stream",
          "name": "stdout",
          "text": [
            "              precision    recall  f1-score   support\n",
            "\n",
            "        8PSK       0.37      0.34      0.35      1800\n",
            "      AM-DSB       0.61      0.72      0.66      1800\n",
            "        BPSK       0.84      0.80      0.82      1800\n",
            "       CPFSK       0.75      0.82      0.78      1800\n",
            "        GFSK       0.86      0.93      0.89      1800\n",
            "        PAM4       0.82      0.92      0.87      1800\n",
            "       QAM16       0.33      0.29      0.31      1800\n",
            "       QAM64       0.41      0.44      0.42      1800\n",
            "        QPSK       0.45      0.40      0.42      1800\n",
            "        WBFM       0.59      0.48      0.53      1800\n",
            "\n",
            "    accuracy                           0.61     18000\n",
            "   macro avg       0.60      0.61      0.61     18000\n",
            "weighted avg       0.60      0.61      0.61     18000\n",
            "\n",
            "Model Average accuracy 0.6095289427839524\n"
          ]
        },
        {
          "output_type": "display_data",
          "data": {
            "text/plain": [
              "<Figure size 864x504 with 2 Axes>"
            ],
            "image/png": "[encoded data removed]"
          },
          "metadata": {
            "needs_background": "light"
          }
        }
      ]
    },
    {
      "cell_type": "code",
      "source": [
        "dataset_test = Dataset(data = X_test, labels = y_test['mod'])\n",
        "test_dataloader = DataLoader(dataset_test, batch_size=64)\n",
        "# print(x_spectro_test)\n",
        "test_model(rnn,test_dataloader,device )\n"
      ],
      "metadata": {
        "colab": {
          "base_uri": "https://localhost:8080/"
        },
        "id": "kJNxsZ0cfEgx",
        "outputId": "c4d0e9ba-cf07-4e90-89de-ddb7b2abfd2b"
      },
      "execution_count": null,
      "outputs": [
        {
          "output_type": "execute_result",
          "data": {
            "text/plain": [
              "0.4725919653083323"
            ]
          },
          "metadata": {},
          "execution_count": 35
        }
      ]
    },
    {
      "cell_type": "code",
      "source": [
        "dataset_test = Dataset(data = X_test, labels = y_test['mod'])\n",
        "test_dataloader = DataLoader(dataset_test, batch_size=64)\n",
        "test_model(lstm,test_dataloader,device )\n"
      ],
      "metadata": {
        "colab": {
          "base_uri": "https://localhost:8080/",
          "height": 750
        },
        "id": "v_kp_6_vybRp",
        "outputId": "e211abf3-df41-4098-dbca-131b0a0823c9"
      },
      "execution_count": null,
      "outputs": [
        {
          "output_type": "stream",
          "name": "stdout",
          "text": [
            "              precision    recall  f1-score   support\n",
            "\n",
            "        8PSK       0.26      0.42      0.32     36000\n",
            "      AM-DSB       0.48      0.78      0.60     36000\n",
            "        BPSK       0.54      0.61      0.57     36000\n",
            "       CPFSK       0.64      0.65      0.65     36000\n",
            "        GFSK       0.65      0.72      0.68     36000\n",
            "        PAM4       0.77      0.62      0.69     36000\n",
            "       QAM16       0.41      0.16      0.23     36000\n",
            "       QAM64       0.52      0.45      0.48     36000\n",
            "        QPSK       0.37      0.39      0.38     36000\n",
            "        WBFM       0.66      0.30      0.41     36000\n",
            "\n",
            "    accuracy                           0.51    360000\n",
            "   macro avg       0.53      0.51      0.50    360000\n",
            "weighted avg       0.53      0.51      0.50    360000\n",
            "\n",
            "Model Average accuracy 0.5095561632166288\n"
          ]
        },
        {
          "output_type": "display_data",
          "data": {
            "text/plain": [
              "<Figure size 864x504 with 2 Axes>"
            ],
            "image/png": "[encoded data removed]"
          },
          "metadata": {
            "needs_background": "light"
          }
        }
      ]
    },
    {
      "cell_type": "code",
      "source": [
        "# lstm with featuresoace 1200000,6,128\n",
        "dataset_test = Dataset(data = featurespace_test1, labels = y_test['mod'])\n",
        "test_dataloader = DataLoader(dataset_test, batch_size=64)\n",
        "test_model(lstm,test_dataloader,device )"
      ],
      "metadata": {
        "colab": {
          "base_uri": "https://localhost:8080/",
          "height": 750
        },
        "id": "xm6G8V5ZLurl",
        "outputId": "2cb2dd52-82d5-4c17-b4d0-e1928c27a605"
      },
      "execution_count": null,
      "outputs": [
        {
          "output_type": "stream",
          "name": "stdout",
          "text": [
            "              precision    recall  f1-score   support\n",
            "\n",
            "        8PSK       0.49      0.41      0.45     36000\n",
            "      AM-DSB       0.54      0.73      0.62     36000\n",
            "        BPSK       0.33      0.82      0.47     36000\n",
            "       CPFSK       0.75      0.60      0.66     36000\n",
            "        GFSK       0.77      0.66      0.71     36000\n",
            "        PAM4       0.83      0.66      0.73     36000\n",
            "       QAM16       0.46      0.30      0.37     36000\n",
            "       QAM64       0.52      0.42      0.47     36000\n",
            "        QPSK       0.61      0.51      0.56     36000\n",
            "        WBFM       0.54      0.29      0.38     36000\n",
            "\n",
            "    accuracy                           0.54    360000\n",
            "   macro avg       0.58      0.54      0.54    360000\n",
            "weighted avg       0.58      0.54      0.54    360000\n",
            "\n",
            "Model Average accuracy 0.5418887483714846\n"
          ]
        },
        {
          "output_type": "display_data",
          "data": {
            "text/plain": [
              "<Figure size 864x504 with 2 Axes>"
            ],
            "image/png": "[encoded data removed]"
          },
          "metadata": {
            "needs_background": "light"
          }
        }
      ]
    }
  ],
  "metadata": {
    "colab": {
      "provenance": [],
      "include_colab_link": true
    },
    "gpuClass": "standard",
    "kernelspec": {
      "display_name": "Python 3",
      "name": "python3"
    },
    "language_info": {
      "name": "python"
    },
    "accelerator": "GPU"
  },
  "nbformat": 4,
  "nbformat_minor": 0
}